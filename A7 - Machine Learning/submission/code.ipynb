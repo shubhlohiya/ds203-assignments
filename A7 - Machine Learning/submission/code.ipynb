{
 "cells": [
  {
   "cell_type": "markdown",
   "metadata": {},
   "source": [
    "<h1 style='text-align: center; color: blue;'>DS 203 Assignment 7: Basic Machine Learning Practice</h1>\n",
    "<h3 style='text-align: right; color: red;'>~ Shubham Lohiya, 18D100020</h3>"
   ]
  },
  {
   "cell_type": "code",
   "execution_count": 1,
   "metadata": {},
   "outputs": [],
   "source": [
    "import pandas as pd\n",
    "import matplotlib.pyplot as plt\n",
    "import numpy as np\n",
    "from sklearn.metrics import mean_squared_error, make_scorer, accuracy_score\n",
    "from sklearn.preprocessing import StandardScaler\n",
    "from sklearn.model_selection import train_test_split, GridSearchCV, PredefinedSplit\n",
    "from sklearn.linear_model import LogisticRegression\n",
    "from sklearn.svm import SVR, SVC\n",
    "from sklearn.ensemble import RandomForestRegressor, RandomForestClassifier\n",
    "from sklearn.neural_network import MLPRegressor, MLPClassifier\n",
    "from sklearn.decomposition import PCA\n",
    "\n",
    "import warnings\n",
    "warnings.filterwarnings('ignore')\n",
    "\n",
    "from IPython.display import display\n",
    "SEED = 123\n",
    "np.random.seed(SEED)\n",
    "\n",
    "neg_mean_squared_error = make_scorer(mean_squared_error, greater_is_better=False)\n",
    "accuracy_scorer = make_scorer(accuracy_score)"
   ]
  },
  {
   "cell_type": "markdown",
   "metadata": {},
   "source": [
    "<br>\n",
    "\n",
    "## Question 1\n",
    "\n",
    "**a. Summarize the grades of all 50 courses that a student using 5 numbers assuming that the performance on some of the courses might be correlated.**  \n",
    "This is a **dimension reduction** problem.  \n",
    "*Input*: grades of the 50 courses  \n",
    "*Output*: the 5 numbers that summarize these 50 grades  \n",
    "\n",
    "**b. Divide students into unspecified personality groups based student based on their performance in various courses and extra-curricular activities.**  \n",
    "This is a **clustering** problem.  \n",
    "*Input*: grades in courses, Indicators of performance in extracurricular activities (like no. of sports medals won, no. of events/competitions participated in, no. of self projects etc.)  \n",
    "*Output*: each student is assigned to a cluster (no. of clusters is a hyperparameter, the desired number of personality groups)  \n",
    "\n",
    "**c. Predict the salary of a student after two years of graduating based on his/her performance in various courses, extra-curricular activities, and their first job type.**  \n",
    "This is a **regression** problem.  \n",
    "*Input*: course grades, performance indicators for extra-curricular activities, and their first job type (nominal variable)  \n",
    "*Output*: predicted salary number  \n",
    "\n",
    "**d. Predict the best type of job for a student based on his/her performance in various courses and extra-curricular activities.**  \n",
    "This is a **classification** problem.  \n",
    "*Input*: grades in various courses, performance indicators for extra-curricular activities  \n",
    "*Output*: the best suited job type (nominal variable)  \n"
   ]
  },
  {
   "cell_type": "markdown",
   "metadata": {},
   "source": [
    "<br><br>\n",
    "## Question 2\n",
    "\n",
    "1. \n",
    "    **Problem**: Classification  \n",
    "    **Framework**: SVM-C with Gaussian kernel  \n",
    "    **Target output variable type**: One-Hot  \n",
    "    **Parameters**: Weights, intercept  \n",
    "    **Hyper-parameters and their typical value range**: regularization parameter, kernel_type, gamma (kernel coefficient)  \n",
    "    **Scikit-learn commands for defining, training, and testing**:\n",
    "    \n",
    "    ```python\n",
    "from sklearn.pipeline import make_pipeline\n",
    "from sklearn.svm import SVC # import\n",
    "model = make_pipeline(StandardScaler(), SVC(gamma='auto', kernel='rbf')) # define\n",
    "model.fit(X_train, y_train) # train\n",
    "preds = model.predict(X_test, y_test) # predict\n",
    "    ```\n",
    "    \n",
    "1. \n",
    "    **Problem**: Regression   \n",
    "    **Framework**: SVM-R with Gaussian kernel  \n",
    "    **Target output variable type**: Float  \n",
    "    **Parameters**: Weights, intercept  \n",
    "    **Hyper-parameters and their typical value range**: regularization parameter, kernel_type, gamma (kernel coefficient)  \n",
    "    **Scikit-learn commands for defining, training, and testing**:\n",
    "    \n",
    "    ```python\n",
    "from sklearn.pipeline import make_pipeline\n",
    "from sklearn.svm import SVR # import\n",
    "model = make_pipeline(StandardScaler(), SVR(gamma='auto', kernel='rbf')) # define\n",
    "model.fit(X_train, y_train) # train\n",
    "preds = model.predict(X_test, y_test) # predict\n",
    "    ```\n",
    "\n",
    "1. \n",
    "    **Problem**: Classification  \n",
    "    **Framework**: NN with one hidden layer  \n",
    "    **Target output variable type**: One-hot  \n",
    "    **Parameters**: Weights  \n",
    "    **Hyper-parameters and their typical value range**: Activation function, solver/optimizer, l2 regularization penalty, learning rate, batch size  \n",
    "    **Scikit-learn commands for defining, training, and testing**:\n",
    "    \n",
    "    ```python\n",
    "from sklearn.neural_network import MLPClassifier # import\n",
    "model = MLPClassifier(hidden_layer_sizes=(num_neurons, num_classes)) # define\n",
    "model.fit(X_train, y_train) # train\n",
    "preds = model.predict(X_test) # predict\n",
    "    ```\n",
    "\n",
    "1. \n",
    "    **Problem**: Regression  \n",
    "    **Framework**: NN with one hidden layer  \n",
    "    **Target output variable type**: Float  \n",
    "    **Parameters**: Weights  \n",
    "    **Hyper-parameters and their typical value range**: Activation function, solver/optimizer, l2 regularization penalty, learning rate, batch size  \n",
    "    **Scikit-learn commands for defining, training, and testing**:\n",
    "    \n",
    "    ```python\n",
    "from sklearn.neural_network import MLPRegressor # import\n",
    "model = MLPClassifier(hidden_layer_sizes=num_neurons) # define\n",
    "model.fit(X_train, y_train) # train\n",
    "preds = model.predict(X_test) # predict\n",
    "    ```\n",
    "    \n",
    "1. \n",
    "    **Problem**: Classification  \n",
    "    **Framework**: Random Forest  \n",
    "    **Target output variable type**: One-Hot  \n",
    "    **Parameters**: Weights  \n",
    "    **Hyper-parameters and their typical value range**: Criterion, maxdepth, number of estimators  \n",
    "    **Scikit-learn commands for defining, training, and testing**:\n",
    "    \n",
    "    ```python\n",
    "from sklearn.ensemble import RandomForestClassifier\n",
    "model = RandomForestClassifier(max_depth=max_depth)  # define\n",
    "model.fit(X_train, y_train) # train\n",
    "preds = model.predict(X_test) # predict\n",
    "    ```\n",
    "    \n",
    "1. \n",
    "    **Problem**: Regression  \n",
    "    **Framework**: Random Forest  \n",
    "    **Target output variable type**: Float  \n",
    "    **Parameters**: Weights  \n",
    "    **Hyper-parameters and their typical value range**: Criterion, maxdepth, number of estimators  \n",
    "    **Scikit-learn commands for defining, training, and testing**:\n",
    "    \n",
    "    ```python\n",
    "from sklearn.ensemble import RandomForestRegressor\n",
    "model = RandomForestRegressor(max_depth=max_depth)  # define\n",
    "model.fit(X_train, y_train) # train\n",
    "preds = model.predict(X_test) # predict\n",
    "    ```\n",
    "    \n",
    "1. \n",
    "    **Problem**: Clustering  \n",
    "    **Framework**: K-means  \n",
    "    **Target output variable type**: Array of labels  \n",
    "    **Parameters**: Centroids  \n",
    "    **Hyper-parameters and their typical value range**: number of clusters  \n",
    "    **Scikit-learn commands for defining, training, and testing**:\n",
    "    \n",
    "    ```python\n",
    "from sklearn.cluster import KMeans  \n",
    "model = KMeans(n_clusters=n_clusters) # define\n",
    "model.fit(X_train) # train\n",
    "print(model.labels_) # show labels of X_train after fit\n",
    "model.predict(X_test) # predict\n",
    "    ```\n",
    "\n",
    "1. \n",
    "    **Problem**: Clustering  \n",
    "    **Framework**: DBSCAN  \n",
    "    **Target output variable type**: Array of labels  \n",
    "    **Parameters**: Core points  \n",
    "    **Hyper-parameters and their typical value range**: eps(max distance), leaf_size  \n",
    "    **Scikit-learn commands for defining, training, and testing**:\n",
    "    \n",
    "    ```python\n",
    "from sklearn.cluster import DBSCAN  \n",
    "model = DBSCAN(eps=eps) # define\n",
    "model.fit(X_train) # train\n",
    "print(model.labels_) # show labels of X_train after fit\n",
    "model.fit_predict(X_test) # predict\n",
    "    ```\n",
    "\n",
    "1. \n",
    "    **Problem**: Dimension reduction  \n",
    "    **Framework**: PCA  \n",
    "    **Target output variable type**: Compressed data with lower dimension as compared to input  \n",
    "    **Parameters**: Eigenvectors  \n",
    "    **Hyper-parameters and their typical value range**: N_components  \n",
    "    **Scikit-learn commands for defining, training, and testing**:\n",
    "    \n",
    "    ```python\n",
    "from sklearn.cluster import PCA\n",
    "model = PCA(n_components=n) # define\n",
    "model.fit(X) # only fit\n",
    "X_transformed = model.fit_transform(X) # OR fit using input and return transformed input\n",
    "model.transform(X_test) # only transform (after model has already been fit\n",
    "    ```\n",
    "    \n",
    "1. \n",
    "    **Problem**: Dimension reduction  \n",
    "    **Framework**: Kernel PCA   \n",
    "    **Target output variable type**: Compressed data with lower dimension as compared to input  \n",
    "    **Parameters**: Eigenvectors  \n",
    "    **Hyper-parameters and their typical value range**: n_components, gamma, alpha, kernel  \n",
    "    **Scikit-learn commands for defining, training, and testing**:\n",
    "    \n",
    "    ```python\n",
    "from sklearn.cluster import KernelPCA\n",
    "model = KernelPCA(n_components=n_components, kernel=kernel) # define\n",
    "model.fit(X) # only fit\n",
    "X_transformed = model.fit_transform(X) # OR fit using input and return transformed input\n",
    "model.transform(X_test) # only transform (after model has already been fit\n",
    "    ```"
   ]
  },
  {
   "cell_type": "markdown",
   "metadata": {},
   "source": [
    "<br><br>\n",
    "\n",
    "## Question 3"
   ]
  },
  {
   "cell_type": "code",
   "execution_count": 2,
   "metadata": {},
   "outputs": [
    {
     "data": {
      "text/html": [
       "<div>\n",
       "<style scoped>\n",
       "    .dataframe tbody tr th:only-of-type {\n",
       "        vertical-align: middle;\n",
       "    }\n",
       "\n",
       "    .dataframe tbody tr th {\n",
       "        vertical-align: top;\n",
       "    }\n",
       "\n",
       "    .dataframe thead th {\n",
       "        text-align: right;\n",
       "    }\n",
       "</style>\n",
       "<table border=\"1\" class=\"dataframe\">\n",
       "  <thead>\n",
       "    <tr style=\"text-align: right;\">\n",
       "      <th></th>\n",
       "      <th>Date</th>\n",
       "      <th>Rented Bike Count</th>\n",
       "      <th>Hour</th>\n",
       "      <th>Temperature(°C)</th>\n",
       "      <th>Humidity(%)</th>\n",
       "      <th>Wind speed (m/s)</th>\n",
       "      <th>Visibility (10m)</th>\n",
       "      <th>Dew point temperature(°C)</th>\n",
       "      <th>Solar Radiation (MJ/m2)</th>\n",
       "      <th>Rainfall(mm)</th>\n",
       "      <th>Snowfall (cm)</th>\n",
       "      <th>Seasons</th>\n",
       "      <th>Holiday</th>\n",
       "      <th>Functioning Day</th>\n",
       "    </tr>\n",
       "  </thead>\n",
       "  <tbody>\n",
       "    <tr>\n",
       "      <th>0</th>\n",
       "      <td>2017-12-01</td>\n",
       "      <td>254</td>\n",
       "      <td>0</td>\n",
       "      <td>-5.2</td>\n",
       "      <td>37</td>\n",
       "      <td>2.2</td>\n",
       "      <td>2000</td>\n",
       "      <td>-17.6</td>\n",
       "      <td>0.0</td>\n",
       "      <td>0.0</td>\n",
       "      <td>0.0</td>\n",
       "      <td>Winter</td>\n",
       "      <td>No Holiday</td>\n",
       "      <td>Yes</td>\n",
       "    </tr>\n",
       "    <tr>\n",
       "      <th>1</th>\n",
       "      <td>2017-12-01</td>\n",
       "      <td>204</td>\n",
       "      <td>1</td>\n",
       "      <td>-5.5</td>\n",
       "      <td>38</td>\n",
       "      <td>0.8</td>\n",
       "      <td>2000</td>\n",
       "      <td>-17.6</td>\n",
       "      <td>0.0</td>\n",
       "      <td>0.0</td>\n",
       "      <td>0.0</td>\n",
       "      <td>Winter</td>\n",
       "      <td>No Holiday</td>\n",
       "      <td>Yes</td>\n",
       "    </tr>\n",
       "    <tr>\n",
       "      <th>2</th>\n",
       "      <td>2017-12-01</td>\n",
       "      <td>173</td>\n",
       "      <td>2</td>\n",
       "      <td>-6.0</td>\n",
       "      <td>39</td>\n",
       "      <td>1.0</td>\n",
       "      <td>2000</td>\n",
       "      <td>-17.7</td>\n",
       "      <td>0.0</td>\n",
       "      <td>0.0</td>\n",
       "      <td>0.0</td>\n",
       "      <td>Winter</td>\n",
       "      <td>No Holiday</td>\n",
       "      <td>Yes</td>\n",
       "    </tr>\n",
       "    <tr>\n",
       "      <th>3</th>\n",
       "      <td>2017-12-01</td>\n",
       "      <td>107</td>\n",
       "      <td>3</td>\n",
       "      <td>-6.2</td>\n",
       "      <td>40</td>\n",
       "      <td>0.9</td>\n",
       "      <td>2000</td>\n",
       "      <td>-17.6</td>\n",
       "      <td>0.0</td>\n",
       "      <td>0.0</td>\n",
       "      <td>0.0</td>\n",
       "      <td>Winter</td>\n",
       "      <td>No Holiday</td>\n",
       "      <td>Yes</td>\n",
       "    </tr>\n",
       "    <tr>\n",
       "      <th>4</th>\n",
       "      <td>2017-12-01</td>\n",
       "      <td>78</td>\n",
       "      <td>4</td>\n",
       "      <td>-6.0</td>\n",
       "      <td>36</td>\n",
       "      <td>2.3</td>\n",
       "      <td>2000</td>\n",
       "      <td>-18.6</td>\n",
       "      <td>0.0</td>\n",
       "      <td>0.0</td>\n",
       "      <td>0.0</td>\n",
       "      <td>Winter</td>\n",
       "      <td>No Holiday</td>\n",
       "      <td>Yes</td>\n",
       "    </tr>\n",
       "  </tbody>\n",
       "</table>\n",
       "</div>"
      ],
      "text/plain": [
       "        Date  Rented Bike Count  Hour  Temperature(°C)  Humidity(%)  \\\n",
       "0 2017-12-01                254     0             -5.2           37   \n",
       "1 2017-12-01                204     1             -5.5           38   \n",
       "2 2017-12-01                173     2             -6.0           39   \n",
       "3 2017-12-01                107     3             -6.2           40   \n",
       "4 2017-12-01                 78     4             -6.0           36   \n",
       "\n",
       "   Wind speed (m/s)  Visibility (10m)  Dew point temperature(°C)  \\\n",
       "0               2.2              2000                      -17.6   \n",
       "1               0.8              2000                      -17.6   \n",
       "2               1.0              2000                      -17.7   \n",
       "3               0.9              2000                      -17.6   \n",
       "4               2.3              2000                      -18.6   \n",
       "\n",
       "   Solar Radiation (MJ/m2)  Rainfall(mm)  Snowfall (cm) Seasons     Holiday  \\\n",
       "0                      0.0           0.0            0.0  Winter  No Holiday   \n",
       "1                      0.0           0.0            0.0  Winter  No Holiday   \n",
       "2                      0.0           0.0            0.0  Winter  No Holiday   \n",
       "3                      0.0           0.0            0.0  Winter  No Holiday   \n",
       "4                      0.0           0.0            0.0  Winter  No Holiday   \n",
       "\n",
       "  Functioning Day  \n",
       "0             Yes  \n",
       "1             Yes  \n",
       "2             Yes  \n",
       "3             Yes  \n",
       "4             Yes  "
      ]
     },
     "metadata": {},
     "output_type": "display_data"
    }
   ],
   "source": [
    "df = pd.read_csv('SeoulBikeData.csv', encoding = 'ISO-8859-1', parse_dates=['Date'], dayfirst=True)\n",
    "display(df.head())"
   ]
  },
  {
   "cell_type": "markdown",
   "metadata": {},
   "source": [
    "**a.** The variable to be predicted is 'Rented Bike Count', which is a continuous variable (quantised continous). This is a supervised learning problem with 'Rented Bike Count' as the target variable\n",
    "\n",
    "**b.** As we are predicting a continuous variable, RMSE seems to be an apt choice for measure of performance.\n",
    "\n",
    "**c.** All variables except Date seem to be relevant (since the seasonality will already be captured by Seasons, which is correlated with month of the date. Also there are only two distinct years so this isn't expected to help our prediction task.)\n",
    "\n",
    "**d.** Seasons, Holiday and Functioning Day are unusable as they are given, and must be one-hot encoded for usage. If Date is planned to be used, then it must also be encoded in some form (eg. separated into three variables - day, month and year), and cannot be used as given for the prediction task.\n"
   ]
  },
  {
   "cell_type": "code",
   "execution_count": 3,
   "metadata": {},
   "outputs": [],
   "source": [
    "# Drop irrelevant variables\n",
    "df = df.drop(columns=['Date'])"
   ]
  },
  {
   "cell_type": "code",
   "execution_count": 4,
   "metadata": {},
   "outputs": [
    {
     "data": {
      "text/plain": [
       "Rented Bike Count            0\n",
       "Hour                         0\n",
       "Temperature(°C)              0\n",
       "Humidity(%)                  0\n",
       "Wind speed (m/s)             0\n",
       "Visibility (10m)             0\n",
       "Dew point temperature(°C)    0\n",
       "Solar Radiation (MJ/m2)      0\n",
       "Rainfall(mm)                 0\n",
       "Snowfall (cm)                0\n",
       "Seasons                      0\n",
       "Holiday                      0\n",
       "Functioning Day              0\n",
       "dtype: int64"
      ]
     },
     "execution_count": 4,
     "metadata": {},
     "output_type": "execute_result"
    }
   ],
   "source": [
    "# check missing values\n",
    "df.isnull().sum()"
   ]
  },
  {
   "cell_type": "markdown",
   "metadata": {},
   "source": [
    "The dataset has no missing values!"
   ]
  },
  {
   "cell_type": "code",
   "execution_count": 5,
   "metadata": {
    "scrolled": true
   },
   "outputs": [
    {
     "data": {
      "text/html": [
       "<div>\n",
       "<style scoped>\n",
       "    .dataframe tbody tr th:only-of-type {\n",
       "        vertical-align: middle;\n",
       "    }\n",
       "\n",
       "    .dataframe tbody tr th {\n",
       "        vertical-align: top;\n",
       "    }\n",
       "\n",
       "    .dataframe thead th {\n",
       "        text-align: right;\n",
       "    }\n",
       "</style>\n",
       "<table border=\"1\" class=\"dataframe\">\n",
       "  <thead>\n",
       "    <tr style=\"text-align: right;\">\n",
       "      <th></th>\n",
       "      <th>Rented Bike Count</th>\n",
       "      <th>Hour</th>\n",
       "      <th>Temperature(°C)</th>\n",
       "      <th>Humidity(%)</th>\n",
       "      <th>Wind speed (m/s)</th>\n",
       "      <th>Visibility (10m)</th>\n",
       "      <th>Dew point temperature(°C)</th>\n",
       "      <th>Solar Radiation (MJ/m2)</th>\n",
       "      <th>Rainfall(mm)</th>\n",
       "      <th>Snowfall (cm)</th>\n",
       "      <th>Seasons_Autumn</th>\n",
       "      <th>Seasons_Spring</th>\n",
       "      <th>Seasons_Summer</th>\n",
       "      <th>Seasons_Winter</th>\n",
       "      <th>Holiday_Holiday</th>\n",
       "      <th>Holiday_No Holiday</th>\n",
       "      <th>Functioning Day_No</th>\n",
       "      <th>Functioning Day_Yes</th>\n",
       "    </tr>\n",
       "  </thead>\n",
       "  <tbody>\n",
       "    <tr>\n",
       "      <th>0</th>\n",
       "      <td>254</td>\n",
       "      <td>0</td>\n",
       "      <td>-5.2</td>\n",
       "      <td>37</td>\n",
       "      <td>2.2</td>\n",
       "      <td>2000</td>\n",
       "      <td>-17.6</td>\n",
       "      <td>0.0</td>\n",
       "      <td>0.0</td>\n",
       "      <td>0.0</td>\n",
       "      <td>0</td>\n",
       "      <td>0</td>\n",
       "      <td>0</td>\n",
       "      <td>1</td>\n",
       "      <td>0</td>\n",
       "      <td>1</td>\n",
       "      <td>0</td>\n",
       "      <td>1</td>\n",
       "    </tr>\n",
       "    <tr>\n",
       "      <th>1</th>\n",
       "      <td>204</td>\n",
       "      <td>1</td>\n",
       "      <td>-5.5</td>\n",
       "      <td>38</td>\n",
       "      <td>0.8</td>\n",
       "      <td>2000</td>\n",
       "      <td>-17.6</td>\n",
       "      <td>0.0</td>\n",
       "      <td>0.0</td>\n",
       "      <td>0.0</td>\n",
       "      <td>0</td>\n",
       "      <td>0</td>\n",
       "      <td>0</td>\n",
       "      <td>1</td>\n",
       "      <td>0</td>\n",
       "      <td>1</td>\n",
       "      <td>0</td>\n",
       "      <td>1</td>\n",
       "    </tr>\n",
       "    <tr>\n",
       "      <th>2</th>\n",
       "      <td>173</td>\n",
       "      <td>2</td>\n",
       "      <td>-6.0</td>\n",
       "      <td>39</td>\n",
       "      <td>1.0</td>\n",
       "      <td>2000</td>\n",
       "      <td>-17.7</td>\n",
       "      <td>0.0</td>\n",
       "      <td>0.0</td>\n",
       "      <td>0.0</td>\n",
       "      <td>0</td>\n",
       "      <td>0</td>\n",
       "      <td>0</td>\n",
       "      <td>1</td>\n",
       "      <td>0</td>\n",
       "      <td>1</td>\n",
       "      <td>0</td>\n",
       "      <td>1</td>\n",
       "    </tr>\n",
       "    <tr>\n",
       "      <th>3</th>\n",
       "      <td>107</td>\n",
       "      <td>3</td>\n",
       "      <td>-6.2</td>\n",
       "      <td>40</td>\n",
       "      <td>0.9</td>\n",
       "      <td>2000</td>\n",
       "      <td>-17.6</td>\n",
       "      <td>0.0</td>\n",
       "      <td>0.0</td>\n",
       "      <td>0.0</td>\n",
       "      <td>0</td>\n",
       "      <td>0</td>\n",
       "      <td>0</td>\n",
       "      <td>1</td>\n",
       "      <td>0</td>\n",
       "      <td>1</td>\n",
       "      <td>0</td>\n",
       "      <td>1</td>\n",
       "    </tr>\n",
       "    <tr>\n",
       "      <th>4</th>\n",
       "      <td>78</td>\n",
       "      <td>4</td>\n",
       "      <td>-6.0</td>\n",
       "      <td>36</td>\n",
       "      <td>2.3</td>\n",
       "      <td>2000</td>\n",
       "      <td>-18.6</td>\n",
       "      <td>0.0</td>\n",
       "      <td>0.0</td>\n",
       "      <td>0.0</td>\n",
       "      <td>0</td>\n",
       "      <td>0</td>\n",
       "      <td>0</td>\n",
       "      <td>1</td>\n",
       "      <td>0</td>\n",
       "      <td>1</td>\n",
       "      <td>0</td>\n",
       "      <td>1</td>\n",
       "    </tr>\n",
       "  </tbody>\n",
       "</table>\n",
       "</div>"
      ],
      "text/plain": [
       "   Rented Bike Count  Hour  Temperature(°C)  Humidity(%)  Wind speed (m/s)  \\\n",
       "0                254     0             -5.2           37               2.2   \n",
       "1                204     1             -5.5           38               0.8   \n",
       "2                173     2             -6.0           39               1.0   \n",
       "3                107     3             -6.2           40               0.9   \n",
       "4                 78     4             -6.0           36               2.3   \n",
       "\n",
       "   Visibility (10m)  Dew point temperature(°C)  Solar Radiation (MJ/m2)  \\\n",
       "0              2000                      -17.6                      0.0   \n",
       "1              2000                      -17.6                      0.0   \n",
       "2              2000                      -17.7                      0.0   \n",
       "3              2000                      -17.6                      0.0   \n",
       "4              2000                      -18.6                      0.0   \n",
       "\n",
       "   Rainfall(mm)  Snowfall (cm)  Seasons_Autumn  Seasons_Spring  \\\n",
       "0           0.0            0.0               0               0   \n",
       "1           0.0            0.0               0               0   \n",
       "2           0.0            0.0               0               0   \n",
       "3           0.0            0.0               0               0   \n",
       "4           0.0            0.0               0               0   \n",
       "\n",
       "   Seasons_Summer  Seasons_Winter  Holiday_Holiday  Holiday_No Holiday  \\\n",
       "0               0               1                0                   1   \n",
       "1               0               1                0                   1   \n",
       "2               0               1                0                   1   \n",
       "3               0               1                0                   1   \n",
       "4               0               1                0                   1   \n",
       "\n",
       "   Functioning Day_No  Functioning Day_Yes  \n",
       "0                   0                    1  \n",
       "1                   0                    1  \n",
       "2                   0                    1  \n",
       "3                   0                    1  \n",
       "4                   0                    1  "
      ]
     },
     "execution_count": 5,
     "metadata": {},
     "output_type": "execute_result"
    }
   ],
   "source": [
    "# one-hot encoding of categorical variables\n",
    "categorical = ['Seasons', 'Holiday', 'Functioning Day']\n",
    "one_hot_dfs = []\n",
    "for category in categorical:\n",
    "    one_hot_dfs.append(pd.get_dummies(df[category], prefix=category))\n",
    "df = df.drop(columns=categorical)\n",
    "df = pd.concat([df, *one_hot_dfs], axis=1)\n",
    "df.head()"
   ]
  },
  {
   "cell_type": "code",
   "execution_count": 6,
   "metadata": {},
   "outputs": [],
   "source": [
    "train_df, temp_df = train_test_split(df, test_size=0.3, random_state=SEED) # get train split for fitting standardizing params"
   ]
  },
  {
   "cell_type": "code",
   "execution_count": 7,
   "metadata": {},
   "outputs": [
    {
     "data": {
      "text/html": [
       "<div>\n",
       "<style scoped>\n",
       "    .dataframe tbody tr th:only-of-type {\n",
       "        vertical-align: middle;\n",
       "    }\n",
       "\n",
       "    .dataframe tbody tr th {\n",
       "        vertical-align: top;\n",
       "    }\n",
       "\n",
       "    .dataframe thead th {\n",
       "        text-align: right;\n",
       "    }\n",
       "</style>\n",
       "<table border=\"1\" class=\"dataframe\">\n",
       "  <thead>\n",
       "    <tr style=\"text-align: right;\">\n",
       "      <th></th>\n",
       "      <th>Rented Bike Count</th>\n",
       "      <th>Hour</th>\n",
       "      <th>Temperature(°C)</th>\n",
       "      <th>Humidity(%)</th>\n",
       "      <th>Wind speed (m/s)</th>\n",
       "      <th>Visibility (10m)</th>\n",
       "      <th>Dew point temperature(°C)</th>\n",
       "      <th>Solar Radiation (MJ/m2)</th>\n",
       "      <th>Rainfall(mm)</th>\n",
       "      <th>Snowfall (cm)</th>\n",
       "      <th>Seasons_Autumn</th>\n",
       "      <th>Seasons_Spring</th>\n",
       "      <th>Seasons_Summer</th>\n",
       "      <th>Seasons_Winter</th>\n",
       "      <th>Holiday_Holiday</th>\n",
       "      <th>Holiday_No Holiday</th>\n",
       "      <th>Functioning Day_No</th>\n",
       "      <th>Functioning Day_Yes</th>\n",
       "    </tr>\n",
       "  </thead>\n",
       "  <tbody>\n",
       "    <tr>\n",
       "      <th>0</th>\n",
       "      <td>254</td>\n",
       "      <td>-1.667340</td>\n",
       "      <td>-1.523199</td>\n",
       "      <td>-1.047874</td>\n",
       "      <td>0.462079</td>\n",
       "      <td>0.931809</td>\n",
       "      <td>-1.673497</td>\n",
       "      <td>-0.659589</td>\n",
       "      <td>-0.132735</td>\n",
       "      <td>-0.168209</td>\n",
       "      <td>0</td>\n",
       "      <td>0</td>\n",
       "      <td>0</td>\n",
       "      <td>1</td>\n",
       "      <td>0</td>\n",
       "      <td>1</td>\n",
       "      <td>0</td>\n",
       "      <td>1</td>\n",
       "    </tr>\n",
       "    <tr>\n",
       "      <th>1</th>\n",
       "      <td>204</td>\n",
       "      <td>-1.522370</td>\n",
       "      <td>-1.548446</td>\n",
       "      <td>-0.998796</td>\n",
       "      <td>-0.902885</td>\n",
       "      <td>0.931809</td>\n",
       "      <td>-1.673497</td>\n",
       "      <td>-0.659589</td>\n",
       "      <td>-0.132735</td>\n",
       "      <td>-0.168209</td>\n",
       "      <td>0</td>\n",
       "      <td>0</td>\n",
       "      <td>0</td>\n",
       "      <td>1</td>\n",
       "      <td>0</td>\n",
       "      <td>1</td>\n",
       "      <td>0</td>\n",
       "      <td>1</td>\n",
       "    </tr>\n",
       "    <tr>\n",
       "      <th>2</th>\n",
       "      <td>173</td>\n",
       "      <td>-1.377401</td>\n",
       "      <td>-1.590525</td>\n",
       "      <td>-0.949717</td>\n",
       "      <td>-0.707890</td>\n",
       "      <td>0.931809</td>\n",
       "      <td>-1.681202</td>\n",
       "      <td>-0.659589</td>\n",
       "      <td>-0.132735</td>\n",
       "      <td>-0.168209</td>\n",
       "      <td>0</td>\n",
       "      <td>0</td>\n",
       "      <td>0</td>\n",
       "      <td>1</td>\n",
       "      <td>0</td>\n",
       "      <td>1</td>\n",
       "      <td>0</td>\n",
       "      <td>1</td>\n",
       "    </tr>\n",
       "    <tr>\n",
       "      <th>3</th>\n",
       "      <td>107</td>\n",
       "      <td>-1.232431</td>\n",
       "      <td>-1.607356</td>\n",
       "      <td>-0.900639</td>\n",
       "      <td>-0.805387</td>\n",
       "      <td>0.931809</td>\n",
       "      <td>-1.673497</td>\n",
       "      <td>-0.659589</td>\n",
       "      <td>-0.132735</td>\n",
       "      <td>-0.168209</td>\n",
       "      <td>0</td>\n",
       "      <td>0</td>\n",
       "      <td>0</td>\n",
       "      <td>1</td>\n",
       "      <td>0</td>\n",
       "      <td>1</td>\n",
       "      <td>0</td>\n",
       "      <td>1</td>\n",
       "    </tr>\n",
       "    <tr>\n",
       "      <th>4</th>\n",
       "      <td>78</td>\n",
       "      <td>-1.087461</td>\n",
       "      <td>-1.590525</td>\n",
       "      <td>-1.096953</td>\n",
       "      <td>0.559577</td>\n",
       "      <td>0.931809</td>\n",
       "      <td>-1.750547</td>\n",
       "      <td>-0.659589</td>\n",
       "      <td>-0.132735</td>\n",
       "      <td>-0.168209</td>\n",
       "      <td>0</td>\n",
       "      <td>0</td>\n",
       "      <td>0</td>\n",
       "      <td>1</td>\n",
       "      <td>0</td>\n",
       "      <td>1</td>\n",
       "      <td>0</td>\n",
       "      <td>1</td>\n",
       "    </tr>\n",
       "  </tbody>\n",
       "</table>\n",
       "</div>"
      ],
      "text/plain": [
       "   Rented Bike Count      Hour  Temperature(°C)  Humidity(%)  \\\n",
       "0                254 -1.667340        -1.523199    -1.047874   \n",
       "1                204 -1.522370        -1.548446    -0.998796   \n",
       "2                173 -1.377401        -1.590525    -0.949717   \n",
       "3                107 -1.232431        -1.607356    -0.900639   \n",
       "4                 78 -1.087461        -1.590525    -1.096953   \n",
       "\n",
       "   Wind speed (m/s)  Visibility (10m)  Dew point temperature(°C)  \\\n",
       "0          0.462079          0.931809                  -1.673497   \n",
       "1         -0.902885          0.931809                  -1.673497   \n",
       "2         -0.707890          0.931809                  -1.681202   \n",
       "3         -0.805387          0.931809                  -1.673497   \n",
       "4          0.559577          0.931809                  -1.750547   \n",
       "\n",
       "   Solar Radiation (MJ/m2)  Rainfall(mm)  Snowfall (cm)  Seasons_Autumn  \\\n",
       "0                -0.659589     -0.132735      -0.168209               0   \n",
       "1                -0.659589     -0.132735      -0.168209               0   \n",
       "2                -0.659589     -0.132735      -0.168209               0   \n",
       "3                -0.659589     -0.132735      -0.168209               0   \n",
       "4                -0.659589     -0.132735      -0.168209               0   \n",
       "\n",
       "   Seasons_Spring  Seasons_Summer  Seasons_Winter  Holiday_Holiday  \\\n",
       "0               0               0               1                0   \n",
       "1               0               0               1                0   \n",
       "2               0               0               1                0   \n",
       "3               0               0               1                0   \n",
       "4               0               0               1                0   \n",
       "\n",
       "   Holiday_No Holiday  Functioning Day_No  Functioning Day_Yes  \n",
       "0                   1                   0                    1  \n",
       "1                   1                   0                    1  \n",
       "2                   1                   0                    1  \n",
       "3                   1                   0                    1  \n",
       "4                   1                   0                    1  "
      ]
     },
     "execution_count": 7,
     "metadata": {},
     "output_type": "execute_result"
    }
   ],
   "source": [
    "# standardizing the continuous data\n",
    "cont_cols = ['Hour', 'Temperature(°C)', 'Humidity(%)', 'Wind speed (m/s)', 'Visibility (10m)',\n",
    "            'Dew point temperature(°C)', 'Solar Radiation (MJ/m2)', 'Rainfall(mm)', 'Snowfall (cm)']\n",
    "scaler = StandardScaler()\n",
    "scaler_fit = scaler.fit(train_df[cont_cols])\n",
    "df[cont_cols] = scaler_fit.transform(df[cont_cols])\n",
    "df.head()"
   ]
  },
  {
   "cell_type": "code",
   "execution_count": 8,
   "metadata": {},
   "outputs": [
    {
     "name": "stdout",
     "output_type": "stream",
     "text": [
      "Full Data shape: X - (8760, 17), Y - (8760,)\n",
      "Train Data shape: X - (6132, 17), Y - (6132,)\n",
      "Val Data shape: X - (1314, 17), Y - (1314,)\n",
      "Test Data shape: X - (1314, 17), Y - (1314,)\n"
     ]
    }
   ],
   "source": [
    "# split the data into 70:15:15\n",
    "indices = np.arange(len(df))\n",
    "train_df, temp_df, train_idx, temp_idx = train_test_split(df, indices, test_size=0.3, random_state=SEED)\n",
    "val_df, test_df, val_idx, test_idx = train_test_split(temp_df, temp_idx, test_size=0.5, random_state=SEED)\n",
    "\n",
    "def df_to_dataset(df):\n",
    "    data = df.to_numpy()\n",
    "    X, y = data[:, 1:], data[:, 0]\n",
    "    return X, y\n",
    "\n",
    "X, y = df_to_dataset(df)\n",
    "print(f'Full Data shape: X - {X.shape}, Y - {y.shape}')\n",
    "X_train, y_train = df_to_dataset(train_df)\n",
    "print(f'Train Data shape: X - {X_train.shape}, Y - {y_train.shape}')\n",
    "X_val, y_val = df_to_dataset(val_df)\n",
    "print(f'Val Data shape: X - {X_val.shape}, Y - {y_val.shape}')\n",
    "X_test, y_test = df_to_dataset(test_df)\n",
    "print(f'Test Data shape: X - {X_test.shape}, Y - {y_test.shape}')"
   ]
  },
  {
   "cell_type": "code",
   "execution_count": 9,
   "metadata": {},
   "outputs": [],
   "source": [
    "X_train_and_val = np.concatenate((X_train, X_val))\n",
    "y_train_and_val = np.concatenate((y_train, y_val))\n",
    "fold = np.array([-1]*len(y_train) + [0]*len(y_val))\n",
    "ps = PredefinedSplit(test_fold = fold)"
   ]
  },
  {
   "cell_type": "markdown",
   "metadata": {},
   "source": [
    "<br>\n",
    "\n",
    "#### Prediction model selection\n",
    "\n",
    "* Lasso works well for high_dimensional data giving sparse weights as it performs feature selection efficiently. Here, we do not have a lot of variables so Lasso will not be a good choice\n",
    "\n",
    "* Ridge regression can be used if linear relationship is satisfied between input and output variable. If the relationship is non-linear, Support Vector regression will be able to effectively model this relationship. So we can try SVR\n",
    "\n",
    "* MLP is a universal approximator, able to learn complex relationships. Only crunch is having enough data for regression. Since we have a decent sized dataset, we can expect MLP to perform well so we'll try it\n",
    "\n",
    "* Random forest is an ensemble approach, and can provide very good performance over a large portion of the data. It is also more immune to overfitting that the other approaches mentioned, so, we will try this too."
   ]
  },
  {
   "cell_type": "markdown",
   "metadata": {},
   "source": [
    "#### SVR"
   ]
  },
  {
   "cell_type": "code",
   "execution_count": 10,
   "metadata": {},
   "outputs": [],
   "source": [
    "param_grid = {'C': [1, 10, 100, 1000], 'kernel': ['linear', 'rbf']}"
   ]
  },
  {
   "cell_type": "code",
   "execution_count": 11,
   "metadata": {},
   "outputs": [
    {
     "data": {
      "text/plain": [
       "GridSearchCV(cv=PredefinedSplit(test_fold=array([-1, -1, ...,  0,  0])),\n",
       "             estimator=SVR(), n_jobs=8,\n",
       "             param_grid={'C': [1, 10, 100, 1000], 'kernel': ['linear', 'rbf']},\n",
       "             scoring=make_scorer(mean_squared_error, greater_is_better=False))"
      ]
     },
     "execution_count": 11,
     "metadata": {},
     "output_type": "execute_result"
    }
   ],
   "source": [
    "clf_svr = GridSearchCV(SVR(), param_grid, scoring=neg_mean_squared_error, n_jobs=8, cv=ps)\n",
    "clf_svr.fit(X_train_and_val, y_train_and_val)"
   ]
  },
  {
   "cell_type": "code",
   "execution_count": 12,
   "metadata": {},
   "outputs": [
    {
     "data": {
      "text/plain": [
       "{'C': 1000, 'kernel': 'rbf'}"
      ]
     },
     "execution_count": 12,
     "metadata": {},
     "output_type": "execute_result"
    }
   ],
   "source": [
    "clf_svr.best_params_"
   ]
  },
  {
   "cell_type": "code",
   "execution_count": 13,
   "metadata": {},
   "outputs": [
    {
     "data": {
      "text/plain": [
       "SVR(C=1000)"
      ]
     },
     "execution_count": 13,
     "metadata": {},
     "output_type": "execute_result"
    }
   ],
   "source": [
    "svr = SVR(**clf_svr.best_params_)\n",
    "svr.fit(X_train_and_val, y_train_and_val)"
   ]
  },
  {
   "cell_type": "code",
   "execution_count": 14,
   "metadata": {},
   "outputs": [
    {
     "data": {
      "text/plain": [
       "301.3494791325927"
      ]
     },
     "execution_count": 14,
     "metadata": {},
     "output_type": "execute_result"
    }
   ],
   "source": [
    "preds = svr.predict(X_test)\n",
    "np.sqrt(mean_squared_error(y_test, preds))"
   ]
  },
  {
   "cell_type": "markdown",
   "metadata": {},
   "source": [
    "This is a bad RMSE value, and means that SVR is not able to fit to the data well enough. Let's try our other models!"
   ]
  },
  {
   "cell_type": "markdown",
   "metadata": {},
   "source": [
    "#### MLP"
   ]
  },
  {
   "cell_type": "code",
   "execution_count": 15,
   "metadata": {},
   "outputs": [],
   "source": [
    "hidden_sizes = [16, 32, 64, 128]\n",
    "param_grid = {\n",
    "    'hidden_layer_sizes': [tuple([i]*2) for i in hidden_sizes],\n",
    "    'activation': ['tanh', 'relu'],\n",
    "    'alpha': [0.0001, 0.001, 0.01],\n",
    "    'learning_rate': ['constant', 'adaptive']\n",
    "}"
   ]
  },
  {
   "cell_type": "markdown",
   "metadata": {},
   "source": [
    "On various grid searches, 2 hidden layer models were always outperforming 1 hidden layer ones, hence they were dropped from consideration. 3 hidden layer models don't give much performance boost, and take a lot longer to train."
   ]
  },
  {
   "cell_type": "code",
   "execution_count": 16,
   "metadata": {},
   "outputs": [
    {
     "data": {
      "text/plain": [
       "GridSearchCV(cv=PredefinedSplit(test_fold=array([-1, -1, ...,  0,  0])),\n",
       "             estimator=MLPRegressor(), n_jobs=16,\n",
       "             param_grid={'activation': ['tanh', 'relu'],\n",
       "                         'alpha': [0.0001, 0.001, 0.01],\n",
       "                         'hidden_layer_sizes': [(16, 16), (32, 32), (64, 64),\n",
       "                                                (128, 128)],\n",
       "                         'learning_rate': ['constant', 'adaptive']},\n",
       "             scoring=make_scorer(mean_squared_error, greater_is_better=False))"
      ]
     },
     "execution_count": 16,
     "metadata": {},
     "output_type": "execute_result"
    }
   ],
   "source": [
    "clf_mlpr = GridSearchCV(MLPRegressor(), param_grid, scoring=neg_mean_squared_error, n_jobs=16, cv=ps)\n",
    "clf_mlpr.fit(X_train_and_val, y_train_and_val)"
   ]
  },
  {
   "cell_type": "code",
   "execution_count": 17,
   "metadata": {},
   "outputs": [
    {
     "data": {
      "text/plain": [
       "{'activation': 'relu',\n",
       " 'alpha': 0.01,\n",
       " 'hidden_layer_sizes': (128, 128),\n",
       " 'learning_rate': 'adaptive'}"
      ]
     },
     "execution_count": 17,
     "metadata": {},
     "output_type": "execute_result"
    }
   ],
   "source": [
    "clf_mlpr.best_params_"
   ]
  },
  {
   "cell_type": "code",
   "execution_count": 18,
   "metadata": {},
   "outputs": [
    {
     "data": {
      "text/plain": [
       "MLPRegressor(alpha=0.01, hidden_layer_sizes=(128, 128),\n",
       "             learning_rate='adaptive')"
      ]
     },
     "execution_count": 18,
     "metadata": {},
     "output_type": "execute_result"
    }
   ],
   "source": [
    "mlpr = MLPRegressor(**clf_mlpr.best_params_)\n",
    "mlpr.fit(X_train_and_val, y_train_and_val)"
   ]
  },
  {
   "cell_type": "code",
   "execution_count": 19,
   "metadata": {},
   "outputs": [
    {
     "data": {
      "text/plain": [
       "268.16538130705493"
      ]
     },
     "execution_count": 19,
     "metadata": {},
     "output_type": "execute_result"
    }
   ],
   "source": [
    "preds = mlpr.predict(X_test)\n",
    "np.sqrt(mean_squared_error(y_test, preds))"
   ]
  },
  {
   "cell_type": "markdown",
   "metadata": {},
   "source": [
    "This RMSE is a lot better than what SVR was able to attain. Based on the test-set performance, this model is usable.There still seems to be room for improvement though."
   ]
  },
  {
   "cell_type": "markdown",
   "metadata": {},
   "source": [
    "#### Random Forest"
   ]
  },
  {
   "cell_type": "code",
   "execution_count": 20,
   "metadata": {},
   "outputs": [],
   "source": [
    "param_grid = {\n",
    "    'n_estimators': (10, 50, 100, 250, 500),\n",
    "    'max_depth': (5, 10, 25, 50, 100),\n",
    "    }"
   ]
  },
  {
   "cell_type": "code",
   "execution_count": 21,
   "metadata": {},
   "outputs": [
    {
     "data": {
      "text/plain": [
       "GridSearchCV(cv=PredefinedSplit(test_fold=array([-1, -1, ...,  0,  0])),\n",
       "             estimator=RandomForestRegressor(), n_jobs=16,\n",
       "             param_grid={'max_depth': (5, 10, 25, 50, 100),\n",
       "                         'n_estimators': (10, 50, 100, 250, 500)},\n",
       "             scoring=make_scorer(mean_squared_error, greater_is_better=False))"
      ]
     },
     "execution_count": 21,
     "metadata": {},
     "output_type": "execute_result"
    }
   ],
   "source": [
    "clf_rfr = GridSearchCV(RandomForestRegressor(), param_grid, scoring=neg_mean_squared_error, n_jobs=16, cv=ps)\n",
    "clf_rfr.fit(X_train_and_val, y_train_and_val)"
   ]
  },
  {
   "cell_type": "code",
   "execution_count": 22,
   "metadata": {},
   "outputs": [
    {
     "data": {
      "text/plain": [
       "{'max_depth': 50, 'n_estimators': 250}"
      ]
     },
     "execution_count": 22,
     "metadata": {},
     "output_type": "execute_result"
    }
   ],
   "source": [
    "clf_rfr.best_params_"
   ]
  },
  {
   "cell_type": "code",
   "execution_count": 23,
   "metadata": {},
   "outputs": [
    {
     "data": {
      "text/plain": [
       "RandomForestRegressor(max_depth=50, n_estimators=250)"
      ]
     },
     "execution_count": 23,
     "metadata": {},
     "output_type": "execute_result"
    }
   ],
   "source": [
    "rfr = RandomForestRegressor(**clf_rfr.best_params_)\n",
    "rfr.fit(X_train_and_val, y_train_and_val)"
   ]
  },
  {
   "cell_type": "code",
   "execution_count": 24,
   "metadata": {},
   "outputs": [
    {
     "data": {
      "text/plain": [
       "235.47483567669826"
      ]
     },
     "execution_count": 24,
     "metadata": {},
     "output_type": "execute_result"
    }
   ],
   "source": [
    "preds = rfr.predict(X_test)\n",
    "np.sqrt(mean_squared_error(y_test, preds))"
   ]
  },
  {
   "cell_type": "markdown",
   "metadata": {},
   "source": [
    "This is the best RMSE value attained among all three candidates, though it is quite close to the MLP. Since RFs are more stable and less prone to overfitting, we should prefer this over MLP for similar performance. This model is the most usable."
   ]
  },
  {
   "cell_type": "markdown",
   "metadata": {},
   "source": [
    "<br><br>\n",
    "\n",
    "## Question 4"
   ]
  },
  {
   "cell_type": "code",
   "execution_count": 25,
   "metadata": {},
   "outputs": [
    {
     "data": {
      "text/html": [
       "<div>\n",
       "<style scoped>\n",
       "    .dataframe tbody tr th:only-of-type {\n",
       "        vertical-align: middle;\n",
       "    }\n",
       "\n",
       "    .dataframe tbody tr th {\n",
       "        vertical-align: top;\n",
       "    }\n",
       "\n",
       "    .dataframe thead th {\n",
       "        text-align: right;\n",
       "    }\n",
       "</style>\n",
       "<table border=\"1\" class=\"dataframe\">\n",
       "  <thead>\n",
       "    <tr style=\"text-align: right;\">\n",
       "      <th></th>\n",
       "      <th>A1</th>\n",
       "      <th>A2</th>\n",
       "      <th>A3</th>\n",
       "      <th>A4</th>\n",
       "      <th>A5</th>\n",
       "      <th>A6</th>\n",
       "      <th>A7</th>\n",
       "      <th>A8</th>\n",
       "      <th>A9</th>\n",
       "      <th>A10</th>\n",
       "      <th>A11</th>\n",
       "      <th>A12</th>\n",
       "      <th>A13</th>\n",
       "      <th>A14</th>\n",
       "      <th>A15</th>\n",
       "      <th>A16</th>\n",
       "    </tr>\n",
       "  </thead>\n",
       "  <tbody>\n",
       "    <tr>\n",
       "      <th>0</th>\n",
       "      <td>b</td>\n",
       "      <td>30.83</td>\n",
       "      <td>0.000</td>\n",
       "      <td>u</td>\n",
       "      <td>g</td>\n",
       "      <td>w</td>\n",
       "      <td>v</td>\n",
       "      <td>1.25</td>\n",
       "      <td>t</td>\n",
       "      <td>t</td>\n",
       "      <td>1</td>\n",
       "      <td>f</td>\n",
       "      <td>g</td>\n",
       "      <td>00202</td>\n",
       "      <td>0</td>\n",
       "      <td>+</td>\n",
       "    </tr>\n",
       "    <tr>\n",
       "      <th>1</th>\n",
       "      <td>a</td>\n",
       "      <td>58.67</td>\n",
       "      <td>4.460</td>\n",
       "      <td>u</td>\n",
       "      <td>g</td>\n",
       "      <td>q</td>\n",
       "      <td>h</td>\n",
       "      <td>3.04</td>\n",
       "      <td>t</td>\n",
       "      <td>t</td>\n",
       "      <td>6</td>\n",
       "      <td>f</td>\n",
       "      <td>g</td>\n",
       "      <td>00043</td>\n",
       "      <td>560</td>\n",
       "      <td>+</td>\n",
       "    </tr>\n",
       "    <tr>\n",
       "      <th>2</th>\n",
       "      <td>a</td>\n",
       "      <td>24.50</td>\n",
       "      <td>0.500</td>\n",
       "      <td>u</td>\n",
       "      <td>g</td>\n",
       "      <td>q</td>\n",
       "      <td>h</td>\n",
       "      <td>1.50</td>\n",
       "      <td>t</td>\n",
       "      <td>f</td>\n",
       "      <td>0</td>\n",
       "      <td>f</td>\n",
       "      <td>g</td>\n",
       "      <td>00280</td>\n",
       "      <td>824</td>\n",
       "      <td>+</td>\n",
       "    </tr>\n",
       "    <tr>\n",
       "      <th>3</th>\n",
       "      <td>b</td>\n",
       "      <td>27.83</td>\n",
       "      <td>1.540</td>\n",
       "      <td>u</td>\n",
       "      <td>g</td>\n",
       "      <td>w</td>\n",
       "      <td>v</td>\n",
       "      <td>3.75</td>\n",
       "      <td>t</td>\n",
       "      <td>t</td>\n",
       "      <td>5</td>\n",
       "      <td>t</td>\n",
       "      <td>g</td>\n",
       "      <td>00100</td>\n",
       "      <td>3</td>\n",
       "      <td>+</td>\n",
       "    </tr>\n",
       "    <tr>\n",
       "      <th>4</th>\n",
       "      <td>b</td>\n",
       "      <td>20.17</td>\n",
       "      <td>5.625</td>\n",
       "      <td>u</td>\n",
       "      <td>g</td>\n",
       "      <td>w</td>\n",
       "      <td>v</td>\n",
       "      <td>1.71</td>\n",
       "      <td>t</td>\n",
       "      <td>f</td>\n",
       "      <td>0</td>\n",
       "      <td>f</td>\n",
       "      <td>s</td>\n",
       "      <td>00120</td>\n",
       "      <td>0</td>\n",
       "      <td>+</td>\n",
       "    </tr>\n",
       "  </tbody>\n",
       "</table>\n",
       "</div>"
      ],
      "text/plain": [
       "  A1     A2     A3 A4 A5 A6 A7    A8 A9 A10  A11 A12 A13    A14  A15 A16\n",
       "0  b  30.83  0.000  u  g  w  v  1.25  t   t    1   f   g  00202    0   +\n",
       "1  a  58.67  4.460  u  g  q  h  3.04  t   t    6   f   g  00043  560   +\n",
       "2  a  24.50  0.500  u  g  q  h  1.50  t   f    0   f   g  00280  824   +\n",
       "3  b  27.83  1.540  u  g  w  v  3.75  t   t    5   t   g  00100    3   +\n",
       "4  b  20.17  5.625  u  g  w  v  1.71  t   f    0   f   s  00120    0   +"
      ]
     },
     "execution_count": 25,
     "metadata": {},
     "output_type": "execute_result"
    }
   ],
   "source": [
    "cols = ['A1','A2','A3','A4','A5','A6','A7','A8','A9','A10','A11','A12','A13','A14','A15','A16']\n",
    "df = pd.read_csv('crx.data', names = cols)\n",
    "df = df.replace(\"?\", np.nan)\n",
    "df = df.dropna() # get rid of rows with missing values\n",
    "df.head()"
   ]
  },
  {
   "cell_type": "code",
   "execution_count": 26,
   "metadata": {},
   "outputs": [
    {
     "name": "stdout",
     "output_type": "stream",
     "text": [
      "Original Dataset description:\n",
      "\n",
      "1. Title: Credit Approval\n",
      "\n",
      "2. Sources: \n",
      "    (confidential)\n",
      "    Submitted by quinlan@cs.su.oz.au\n",
      "\n",
      "3.  Past Usage:\n",
      "\n",
      "    See Quinlan,\n",
      "    * \"Simplifying decision trees\", Int J Man-Machine Studies 27,\n",
      "      Dec 1987, pp. 221-234.\n",
      "    * \"C4.5: Programs for Machine Learning\", Morgan Kaufmann, Oct 1992\n",
      "  \n",
      "4.  Relevant Information:\n",
      "\n",
      "    This file concerns credit card applications.  All attribute names\n",
      "    and values have been changed to meaningless symbols to protect\n",
      "    confidentiality of the data.\n",
      "  \n",
      "    This dataset is interesting because there is a good mix of\n",
      "    attributes -- continuous, nominal with small numbers of\n",
      "    values, and nominal with larger numbers of values.  There\n",
      "    are also a few missing values.\n",
      "  \n",
      "5.  Number of Instances: 690\n",
      "\n",
      "6.  Number of Attributes: 15 + class attribute\n",
      "\n",
      "7.  Attribute Information:\n",
      "\n",
      "    A1:\tb, a.\n",
      "    A2:\tcontinuous.\n",
      "    A3:\tcontinuous.\n",
      "    A4:\tu, y, l, t.\n",
      "    A5:\tg, p, gg.\n",
      "    A6:\tc, d, cc, i, j, k, m, r, q, w, x, e, aa, ff.\n",
      "    A7:\tv, h, bb, j, n, z, dd, ff, o.\n",
      "    A8:\tcontinuous.\n",
      "    A9:\tt, f.\n",
      "    A10:\tt, f.\n",
      "    A11:\tcontinuous.\n",
      "    A12:\tt, f.\n",
      "    A13:\tg, p, s.\n",
      "    A14:\tcontinuous.\n",
      "    A15:\tcontinuous.\n",
      "    A16: +,-         (class attribute)\n",
      "\n",
      "8.  Missing Attribute Values:\n",
      "    37 cases (5%) have one or more missing values.  The missing\n",
      "    values from particular attributes are:\n",
      "\n",
      "    A1:  12\n",
      "    A2:  12\n",
      "    A4:   6\n",
      "    A5:   6\n",
      "    A6:   9\n",
      "    A7:   9\n",
      "    A14: 13\n",
      "\n",
      "9.  Class Distribution\n",
      "  \n",
      "    +: 307 (44.5%)\n",
      "    -: 383 (55.5%)\n"
     ]
    }
   ],
   "source": [
    "print('Original Dataset description:')\n",
    "print(open('crx.names').read().rstrip())"
   ]
  },
  {
   "cell_type": "markdown",
   "metadata": {},
   "source": [
    "**a.** The variable (discrete and categorical) to be predicted is the one corresponding to column A16. This is a supervised learning problem.\n",
    "\n",
    "**b.** This is a classification problem. Since the dataset is mostly balanced, accuracy is a good enough measure of performance\n",
    "\n",
    "**c. & d.** All of the columns seem relevant and usable for now, though this claim will be verified only after training the model."
   ]
  },
  {
   "cell_type": "code",
   "execution_count": 27,
   "metadata": {},
   "outputs": [],
   "source": [
    "# modify some columns\n",
    "df.A16 = df.A16.apply(lambda x: 1 if x=='+' else 0)\n",
    "df.A14 = df.A14.apply(int)\n",
    "df.A2 = df.A2.apply(float)"
   ]
  },
  {
   "cell_type": "code",
   "execution_count": 28,
   "metadata": {},
   "outputs": [
    {
     "data": {
      "text/html": [
       "<div>\n",
       "<style scoped>\n",
       "    .dataframe tbody tr th:only-of-type {\n",
       "        vertical-align: middle;\n",
       "    }\n",
       "\n",
       "    .dataframe tbody tr th {\n",
       "        vertical-align: top;\n",
       "    }\n",
       "\n",
       "    .dataframe thead th {\n",
       "        text-align: right;\n",
       "    }\n",
       "</style>\n",
       "<table border=\"1\" class=\"dataframe\">\n",
       "  <thead>\n",
       "    <tr style=\"text-align: right;\">\n",
       "      <th></th>\n",
       "      <th>A1</th>\n",
       "      <th>A2</th>\n",
       "      <th>A3</th>\n",
       "      <th>A4</th>\n",
       "      <th>A5</th>\n",
       "      <th>A6</th>\n",
       "      <th>A7</th>\n",
       "      <th>A8</th>\n",
       "      <th>A9</th>\n",
       "      <th>A10</th>\n",
       "      <th>A11</th>\n",
       "      <th>A12</th>\n",
       "      <th>A13</th>\n",
       "      <th>A14</th>\n",
       "      <th>A15</th>\n",
       "      <th>A16</th>\n",
       "    </tr>\n",
       "  </thead>\n",
       "  <tbody>\n",
       "    <tr>\n",
       "      <th>0</th>\n",
       "      <td>b</td>\n",
       "      <td>30.83</td>\n",
       "      <td>0.000</td>\n",
       "      <td>u</td>\n",
       "      <td>g</td>\n",
       "      <td>w</td>\n",
       "      <td>v</td>\n",
       "      <td>1.25</td>\n",
       "      <td>t</td>\n",
       "      <td>t</td>\n",
       "      <td>1</td>\n",
       "      <td>f</td>\n",
       "      <td>g</td>\n",
       "      <td>202</td>\n",
       "      <td>0</td>\n",
       "      <td>1</td>\n",
       "    </tr>\n",
       "    <tr>\n",
       "      <th>1</th>\n",
       "      <td>a</td>\n",
       "      <td>58.67</td>\n",
       "      <td>4.460</td>\n",
       "      <td>u</td>\n",
       "      <td>g</td>\n",
       "      <td>q</td>\n",
       "      <td>h</td>\n",
       "      <td>3.04</td>\n",
       "      <td>t</td>\n",
       "      <td>t</td>\n",
       "      <td>6</td>\n",
       "      <td>f</td>\n",
       "      <td>g</td>\n",
       "      <td>43</td>\n",
       "      <td>560</td>\n",
       "      <td>1</td>\n",
       "    </tr>\n",
       "    <tr>\n",
       "      <th>2</th>\n",
       "      <td>a</td>\n",
       "      <td>24.50</td>\n",
       "      <td>0.500</td>\n",
       "      <td>u</td>\n",
       "      <td>g</td>\n",
       "      <td>q</td>\n",
       "      <td>h</td>\n",
       "      <td>1.50</td>\n",
       "      <td>t</td>\n",
       "      <td>f</td>\n",
       "      <td>0</td>\n",
       "      <td>f</td>\n",
       "      <td>g</td>\n",
       "      <td>280</td>\n",
       "      <td>824</td>\n",
       "      <td>1</td>\n",
       "    </tr>\n",
       "    <tr>\n",
       "      <th>3</th>\n",
       "      <td>b</td>\n",
       "      <td>27.83</td>\n",
       "      <td>1.540</td>\n",
       "      <td>u</td>\n",
       "      <td>g</td>\n",
       "      <td>w</td>\n",
       "      <td>v</td>\n",
       "      <td>3.75</td>\n",
       "      <td>t</td>\n",
       "      <td>t</td>\n",
       "      <td>5</td>\n",
       "      <td>t</td>\n",
       "      <td>g</td>\n",
       "      <td>100</td>\n",
       "      <td>3</td>\n",
       "      <td>1</td>\n",
       "    </tr>\n",
       "    <tr>\n",
       "      <th>4</th>\n",
       "      <td>b</td>\n",
       "      <td>20.17</td>\n",
       "      <td>5.625</td>\n",
       "      <td>u</td>\n",
       "      <td>g</td>\n",
       "      <td>w</td>\n",
       "      <td>v</td>\n",
       "      <td>1.71</td>\n",
       "      <td>t</td>\n",
       "      <td>f</td>\n",
       "      <td>0</td>\n",
       "      <td>f</td>\n",
       "      <td>s</td>\n",
       "      <td>120</td>\n",
       "      <td>0</td>\n",
       "      <td>1</td>\n",
       "    </tr>\n",
       "  </tbody>\n",
       "</table>\n",
       "</div>"
      ],
      "text/plain": [
       "  A1     A2     A3 A4 A5 A6 A7    A8 A9 A10  A11 A12 A13  A14  A15  A16\n",
       "0  b  30.83  0.000  u  g  w  v  1.25  t   t    1   f   g  202    0    1\n",
       "1  a  58.67  4.460  u  g  q  h  3.04  t   t    6   f   g   43  560    1\n",
       "2  a  24.50  0.500  u  g  q  h  1.50  t   f    0   f   g  280  824    1\n",
       "3  b  27.83  1.540  u  g  w  v  3.75  t   t    5   t   g  100    3    1\n",
       "4  b  20.17  5.625  u  g  w  v  1.71  t   f    0   f   s  120    0    1"
      ]
     },
     "execution_count": 28,
     "metadata": {},
     "output_type": "execute_result"
    }
   ],
   "source": [
    "df.head()"
   ]
  },
  {
   "cell_type": "code",
   "execution_count": 29,
   "metadata": {},
   "outputs": [],
   "source": [
    "categorical = ['A1', 'A4', 'A5', 'A6', 'A7', 'A9', 'A10', 'A12', 'A13']\n",
    "cont_cols = ['A2', 'A3', 'A8', 'A11', 'A14', 'A15']"
   ]
  },
  {
   "cell_type": "code",
   "execution_count": 30,
   "metadata": {
    "scrolled": true
   },
   "outputs": [
    {
     "data": {
      "text/html": [
       "<div>\n",
       "<style scoped>\n",
       "    .dataframe tbody tr th:only-of-type {\n",
       "        vertical-align: middle;\n",
       "    }\n",
       "\n",
       "    .dataframe tbody tr th {\n",
       "        vertical-align: top;\n",
       "    }\n",
       "\n",
       "    .dataframe thead th {\n",
       "        text-align: right;\n",
       "    }\n",
       "</style>\n",
       "<table border=\"1\" class=\"dataframe\">\n",
       "  <thead>\n",
       "    <tr style=\"text-align: right;\">\n",
       "      <th></th>\n",
       "      <th>A2</th>\n",
       "      <th>A3</th>\n",
       "      <th>A8</th>\n",
       "      <th>A11</th>\n",
       "      <th>A14</th>\n",
       "      <th>A15</th>\n",
       "      <th>A16</th>\n",
       "      <th>A1_a</th>\n",
       "      <th>A1_b</th>\n",
       "      <th>A4_l</th>\n",
       "      <th>...</th>\n",
       "      <th>A7_z</th>\n",
       "      <th>A9_f</th>\n",
       "      <th>A9_t</th>\n",
       "      <th>A10_f</th>\n",
       "      <th>A10_t</th>\n",
       "      <th>A12_f</th>\n",
       "      <th>A12_t</th>\n",
       "      <th>A13_g</th>\n",
       "      <th>A13_p</th>\n",
       "      <th>A13_s</th>\n",
       "    </tr>\n",
       "  </thead>\n",
       "  <tbody>\n",
       "    <tr>\n",
       "      <th>0</th>\n",
       "      <td>30.83</td>\n",
       "      <td>0.000</td>\n",
       "      <td>1.25</td>\n",
       "      <td>1</td>\n",
       "      <td>202</td>\n",
       "      <td>0</td>\n",
       "      <td>1</td>\n",
       "      <td>0</td>\n",
       "      <td>1</td>\n",
       "      <td>0</td>\n",
       "      <td>...</td>\n",
       "      <td>0</td>\n",
       "      <td>0</td>\n",
       "      <td>1</td>\n",
       "      <td>0</td>\n",
       "      <td>1</td>\n",
       "      <td>1</td>\n",
       "      <td>0</td>\n",
       "      <td>1</td>\n",
       "      <td>0</td>\n",
       "      <td>0</td>\n",
       "    </tr>\n",
       "    <tr>\n",
       "      <th>1</th>\n",
       "      <td>58.67</td>\n",
       "      <td>4.460</td>\n",
       "      <td>3.04</td>\n",
       "      <td>6</td>\n",
       "      <td>43</td>\n",
       "      <td>560</td>\n",
       "      <td>1</td>\n",
       "      <td>1</td>\n",
       "      <td>0</td>\n",
       "      <td>0</td>\n",
       "      <td>...</td>\n",
       "      <td>0</td>\n",
       "      <td>0</td>\n",
       "      <td>1</td>\n",
       "      <td>0</td>\n",
       "      <td>1</td>\n",
       "      <td>1</td>\n",
       "      <td>0</td>\n",
       "      <td>1</td>\n",
       "      <td>0</td>\n",
       "      <td>0</td>\n",
       "    </tr>\n",
       "    <tr>\n",
       "      <th>2</th>\n",
       "      <td>24.50</td>\n",
       "      <td>0.500</td>\n",
       "      <td>1.50</td>\n",
       "      <td>0</td>\n",
       "      <td>280</td>\n",
       "      <td>824</td>\n",
       "      <td>1</td>\n",
       "      <td>1</td>\n",
       "      <td>0</td>\n",
       "      <td>0</td>\n",
       "      <td>...</td>\n",
       "      <td>0</td>\n",
       "      <td>0</td>\n",
       "      <td>1</td>\n",
       "      <td>1</td>\n",
       "      <td>0</td>\n",
       "      <td>1</td>\n",
       "      <td>0</td>\n",
       "      <td>1</td>\n",
       "      <td>0</td>\n",
       "      <td>0</td>\n",
       "    </tr>\n",
       "    <tr>\n",
       "      <th>3</th>\n",
       "      <td>27.83</td>\n",
       "      <td>1.540</td>\n",
       "      <td>3.75</td>\n",
       "      <td>5</td>\n",
       "      <td>100</td>\n",
       "      <td>3</td>\n",
       "      <td>1</td>\n",
       "      <td>0</td>\n",
       "      <td>1</td>\n",
       "      <td>0</td>\n",
       "      <td>...</td>\n",
       "      <td>0</td>\n",
       "      <td>0</td>\n",
       "      <td>1</td>\n",
       "      <td>0</td>\n",
       "      <td>1</td>\n",
       "      <td>0</td>\n",
       "      <td>1</td>\n",
       "      <td>1</td>\n",
       "      <td>0</td>\n",
       "      <td>0</td>\n",
       "    </tr>\n",
       "    <tr>\n",
       "      <th>4</th>\n",
       "      <td>20.17</td>\n",
       "      <td>5.625</td>\n",
       "      <td>1.71</td>\n",
       "      <td>0</td>\n",
       "      <td>120</td>\n",
       "      <td>0</td>\n",
       "      <td>1</td>\n",
       "      <td>0</td>\n",
       "      <td>1</td>\n",
       "      <td>0</td>\n",
       "      <td>...</td>\n",
       "      <td>0</td>\n",
       "      <td>0</td>\n",
       "      <td>1</td>\n",
       "      <td>1</td>\n",
       "      <td>0</td>\n",
       "      <td>1</td>\n",
       "      <td>0</td>\n",
       "      <td>0</td>\n",
       "      <td>0</td>\n",
       "      <td>1</td>\n",
       "    </tr>\n",
       "  </tbody>\n",
       "</table>\n",
       "<p>5 rows × 47 columns</p>\n",
       "</div>"
      ],
      "text/plain": [
       "      A2     A3    A8  A11  A14  A15  A16  A1_a  A1_b  A4_l  ...  A7_z  A9_f  \\\n",
       "0  30.83  0.000  1.25    1  202    0    1     0     1     0  ...     0     0   \n",
       "1  58.67  4.460  3.04    6   43  560    1     1     0     0  ...     0     0   \n",
       "2  24.50  0.500  1.50    0  280  824    1     1     0     0  ...     0     0   \n",
       "3  27.83  1.540  3.75    5  100    3    1     0     1     0  ...     0     0   \n",
       "4  20.17  5.625  1.71    0  120    0    1     0     1     0  ...     0     0   \n",
       "\n",
       "   A9_t  A10_f  A10_t  A12_f  A12_t  A13_g  A13_p  A13_s  \n",
       "0     1      0      1      1      0      1      0      0  \n",
       "1     1      0      1      1      0      1      0      0  \n",
       "2     1      1      0      1      0      1      0      0  \n",
       "3     1      0      1      0      1      1      0      0  \n",
       "4     1      1      0      1      0      0      0      1  \n",
       "\n",
       "[5 rows x 47 columns]"
      ]
     },
     "execution_count": 30,
     "metadata": {},
     "output_type": "execute_result"
    }
   ],
   "source": [
    "# one-hot encoding of categorical variables\n",
    "one_hot_dfs = []\n",
    "for category in categorical:\n",
    "    one_hot_dfs.append(pd.get_dummies(df[category], prefix=category))\n",
    "df = df.drop(columns=categorical)\n",
    "df = pd.concat([df, *one_hot_dfs], axis=1)\n",
    "df.head()"
   ]
  },
  {
   "cell_type": "code",
   "execution_count": 31,
   "metadata": {},
   "outputs": [],
   "source": [
    "train_df, temp_df = train_test_split(df, test_size=0.3, random_state=SEED) # get train split for fitting standardizing params"
   ]
  },
  {
   "cell_type": "code",
   "execution_count": 32,
   "metadata": {},
   "outputs": [
    {
     "data": {
      "text/html": [
       "<div>\n",
       "<style scoped>\n",
       "    .dataframe tbody tr th:only-of-type {\n",
       "        vertical-align: middle;\n",
       "    }\n",
       "\n",
       "    .dataframe tbody tr th {\n",
       "        vertical-align: top;\n",
       "    }\n",
       "\n",
       "    .dataframe thead th {\n",
       "        text-align: right;\n",
       "    }\n",
       "</style>\n",
       "<table border=\"1\" class=\"dataframe\">\n",
       "  <thead>\n",
       "    <tr style=\"text-align: right;\">\n",
       "      <th></th>\n",
       "      <th>A2</th>\n",
       "      <th>A3</th>\n",
       "      <th>A8</th>\n",
       "      <th>A11</th>\n",
       "      <th>A14</th>\n",
       "      <th>A15</th>\n",
       "      <th>A16</th>\n",
       "      <th>A1_a</th>\n",
       "      <th>A1_b</th>\n",
       "      <th>A4_l</th>\n",
       "      <th>...</th>\n",
       "      <th>A7_z</th>\n",
       "      <th>A9_f</th>\n",
       "      <th>A9_t</th>\n",
       "      <th>A10_f</th>\n",
       "      <th>A10_t</th>\n",
       "      <th>A12_f</th>\n",
       "      <th>A12_t</th>\n",
       "      <th>A13_g</th>\n",
       "      <th>A13_p</th>\n",
       "      <th>A13_s</th>\n",
       "    </tr>\n",
       "  </thead>\n",
       "  <tbody>\n",
       "    <tr>\n",
       "      <th>0</th>\n",
       "      <td>-0.073404</td>\n",
       "      <td>-0.964878</td>\n",
       "      <td>-0.286707</td>\n",
       "      <td>-0.327276</td>\n",
       "      <td>0.112776</td>\n",
       "      <td>-0.174241</td>\n",
       "      <td>1</td>\n",
       "      <td>0</td>\n",
       "      <td>1</td>\n",
       "      <td>0</td>\n",
       "      <td>...</td>\n",
       "      <td>0</td>\n",
       "      <td>0</td>\n",
       "      <td>1</td>\n",
       "      <td>0</td>\n",
       "      <td>1</td>\n",
       "      <td>1</td>\n",
       "      <td>0</td>\n",
       "      <td>1</td>\n",
       "      <td>0</td>\n",
       "      <td>0</td>\n",
       "    </tr>\n",
       "    <tr>\n",
       "      <th>1</th>\n",
       "      <td>2.223871</td>\n",
       "      <td>-0.037238</td>\n",
       "      <td>0.231213</td>\n",
       "      <td>0.802371</td>\n",
       "      <td>-0.819389</td>\n",
       "      <td>-0.082194</td>\n",
       "      <td>1</td>\n",
       "      <td>1</td>\n",
       "      <td>0</td>\n",
       "      <td>0</td>\n",
       "      <td>...</td>\n",
       "      <td>0</td>\n",
       "      <td>0</td>\n",
       "      <td>1</td>\n",
       "      <td>0</td>\n",
       "      <td>1</td>\n",
       "      <td>1</td>\n",
       "      <td>0</td>\n",
       "      <td>1</td>\n",
       "      <td>0</td>\n",
       "      <td>0</td>\n",
       "    </tr>\n",
       "    <tr>\n",
       "      <th>2</th>\n",
       "      <td>-0.595737</td>\n",
       "      <td>-0.860882</td>\n",
       "      <td>-0.214372</td>\n",
       "      <td>-0.553206</td>\n",
       "      <td>0.570065</td>\n",
       "      <td>-0.038801</td>\n",
       "      <td>1</td>\n",
       "      <td>1</td>\n",
       "      <td>0</td>\n",
       "      <td>0</td>\n",
       "      <td>...</td>\n",
       "      <td>0</td>\n",
       "      <td>0</td>\n",
       "      <td>1</td>\n",
       "      <td>1</td>\n",
       "      <td>0</td>\n",
       "      <td>1</td>\n",
       "      <td>0</td>\n",
       "      <td>1</td>\n",
       "      <td>0</td>\n",
       "      <td>0</td>\n",
       "    </tr>\n",
       "    <tr>\n",
       "      <th>3</th>\n",
       "      <td>-0.320955</td>\n",
       "      <td>-0.644572</td>\n",
       "      <td>0.436645</td>\n",
       "      <td>0.576441</td>\n",
       "      <td>-0.485217</td>\n",
       "      <td>-0.173747</td>\n",
       "      <td>1</td>\n",
       "      <td>0</td>\n",
       "      <td>1</td>\n",
       "      <td>0</td>\n",
       "      <td>...</td>\n",
       "      <td>0</td>\n",
       "      <td>0</td>\n",
       "      <td>1</td>\n",
       "      <td>0</td>\n",
       "      <td>1</td>\n",
       "      <td>0</td>\n",
       "      <td>1</td>\n",
       "      <td>1</td>\n",
       "      <td>0</td>\n",
       "      <td>0</td>\n",
       "    </tr>\n",
       "    <tr>\n",
       "      <th>4</th>\n",
       "      <td>-0.953036</td>\n",
       "      <td>0.205071</td>\n",
       "      <td>-0.153610</td>\n",
       "      <td>-0.553206</td>\n",
       "      <td>-0.367963</td>\n",
       "      <td>-0.174241</td>\n",
       "      <td>1</td>\n",
       "      <td>0</td>\n",
       "      <td>1</td>\n",
       "      <td>0</td>\n",
       "      <td>...</td>\n",
       "      <td>0</td>\n",
       "      <td>0</td>\n",
       "      <td>1</td>\n",
       "      <td>1</td>\n",
       "      <td>0</td>\n",
       "      <td>1</td>\n",
       "      <td>0</td>\n",
       "      <td>0</td>\n",
       "      <td>0</td>\n",
       "      <td>1</td>\n",
       "    </tr>\n",
       "  </tbody>\n",
       "</table>\n",
       "<p>5 rows × 47 columns</p>\n",
       "</div>"
      ],
      "text/plain": [
       "         A2        A3        A8       A11       A14       A15  A16  A1_a  \\\n",
       "0 -0.073404 -0.964878 -0.286707 -0.327276  0.112776 -0.174241    1     0   \n",
       "1  2.223871 -0.037238  0.231213  0.802371 -0.819389 -0.082194    1     1   \n",
       "2 -0.595737 -0.860882 -0.214372 -0.553206  0.570065 -0.038801    1     1   \n",
       "3 -0.320955 -0.644572  0.436645  0.576441 -0.485217 -0.173747    1     0   \n",
       "4 -0.953036  0.205071 -0.153610 -0.553206 -0.367963 -0.174241    1     0   \n",
       "\n",
       "   A1_b  A4_l  ...  A7_z  A9_f  A9_t  A10_f  A10_t  A12_f  A12_t  A13_g  \\\n",
       "0     1     0  ...     0     0     1      0      1      1      0      1   \n",
       "1     0     0  ...     0     0     1      0      1      1      0      1   \n",
       "2     0     0  ...     0     0     1      1      0      1      0      1   \n",
       "3     1     0  ...     0     0     1      0      1      0      1      1   \n",
       "4     1     0  ...     0     0     1      1      0      1      0      0   \n",
       "\n",
       "   A13_p  A13_s  \n",
       "0      0      0  \n",
       "1      0      0  \n",
       "2      0      0  \n",
       "3      0      0  \n",
       "4      0      1  \n",
       "\n",
       "[5 rows x 47 columns]"
      ]
     },
     "execution_count": 32,
     "metadata": {},
     "output_type": "execute_result"
    }
   ],
   "source": [
    "# standardizing the continuous data\n",
    "scaler = StandardScaler()\n",
    "scaler_fit = scaler.fit(train_df[cont_cols])\n",
    "df[cont_cols] = scaler_fit.transform(df[cont_cols])\n",
    "df.head()"
   ]
  },
  {
   "cell_type": "code",
   "execution_count": 33,
   "metadata": {},
   "outputs": [
    {
     "name": "stdout",
     "output_type": "stream",
     "text": [
      "Full Data shape: X - (653, 46), Y - (653,)\n",
      "Train Data shape: X - (457, 46), Y - (457,)\n",
      "Val Data shape: X - (98, 46), Y - (98,)\n",
      "Test Data shape: X - (98, 46), Y - (98,)\n"
     ]
    }
   ],
   "source": [
    "# split the data into 70:15:15\n",
    "indices = np.arange(len(df))\n",
    "train_df, temp_df, train_idx, temp_idx = train_test_split(df, indices, test_size=0.3, random_state=SEED)\n",
    "val_df, test_df, val_idx, test_idx = train_test_split(temp_df, temp_idx, test_size=0.5, random_state=SEED)\n",
    "\n",
    "def df_to_dataset(df):\n",
    "    X, y = df.drop(columns=['A16']).to_numpy(), df.A16.to_numpy()\n",
    "    return X, y\n",
    "\n",
    "X, y = df_to_dataset(df)\n",
    "print(f'Full Data shape: X - {X.shape}, Y - {y.shape}')\n",
    "X_train, y_train = df_to_dataset(train_df)\n",
    "print(f'Train Data shape: X - {X_train.shape}, Y - {y_train.shape}')\n",
    "X_val, y_val = df_to_dataset(val_df)\n",
    "print(f'Val Data shape: X - {X_val.shape}, Y - {y_val.shape}')\n",
    "X_test, y_test = df_to_dataset(test_df)\n",
    "print(f'Test Data shape: X - {X_test.shape}, Y - {y_test.shape}')"
   ]
  },
  {
   "cell_type": "code",
   "execution_count": 34,
   "metadata": {},
   "outputs": [],
   "source": [
    "X_train_and_val = np.concatenate((X_train, X_val))\n",
    "y_train_and_val = np.concatenate((y_train, y_val))\n",
    "fold = np.array([-1]*len(y_train) + [0]*len(y_val))\n",
    "ps = PredefinedSplit(test_fold = fold)"
   ]
  },
  {
   "cell_type": "markdown",
   "metadata": {},
   "source": [
    "<br>\n",
    "\n",
    "#### Prediction model selection\n",
    "\n",
    "* For binary classification task, the first logical choice is logistic regression\n",
    "* We can also try a SVM classifier, as they perform well even in moderate sized datasets, like the one we have\n",
    "* MLPClassifier can also be tried, but as dataset is small, simpler methods might do better.\n",
    "* Random Forest classifiers have shown impressive and stable performance, with considerable immunity to overfitting on classification tasks. We'll try this one too!"
   ]
  },
  {
   "cell_type": "markdown",
   "metadata": {},
   "source": [
    "#### Logistic Regression"
   ]
  },
  {
   "cell_type": "code",
   "execution_count": 35,
   "metadata": {},
   "outputs": [],
   "source": [
    "param_grid = {'penalty': ['l1', 'l2', 'none'], 'C': [0.1, 1, 10, 100], 'solver': ['liblinear']}"
   ]
  },
  {
   "cell_type": "code",
   "execution_count": 36,
   "metadata": {},
   "outputs": [
    {
     "data": {
      "text/plain": [
       "GridSearchCV(cv=PredefinedSplit(test_fold=array([-1, -1, ...,  0,  0])),\n",
       "             estimator=LogisticRegression(), n_jobs=16,\n",
       "             param_grid={'C': [0.1, 1, 10, 100],\n",
       "                         'penalty': ['l1', 'l2', 'none'],\n",
       "                         'solver': ['liblinear']},\n",
       "             scoring=make_scorer(accuracy_score))"
      ]
     },
     "execution_count": 36,
     "metadata": {},
     "output_type": "execute_result"
    }
   ],
   "source": [
    "clf_lr = GridSearchCV(LogisticRegression(), param_grid, scoring=accuracy_scorer, n_jobs=16, cv=ps)\n",
    "clf_lr.fit(X_train_and_val, y_train_and_val)"
   ]
  },
  {
   "cell_type": "code",
   "execution_count": 37,
   "metadata": {},
   "outputs": [
    {
     "data": {
      "text/plain": [
       "{'C': 1, 'penalty': 'l2', 'solver': 'liblinear'}"
      ]
     },
     "execution_count": 37,
     "metadata": {},
     "output_type": "execute_result"
    }
   ],
   "source": [
    "clf_lr.best_params_"
   ]
  },
  {
   "cell_type": "code",
   "execution_count": 38,
   "metadata": {},
   "outputs": [
    {
     "data": {
      "text/plain": [
       "LogisticRegression(C=1, solver='liblinear')"
      ]
     },
     "execution_count": 38,
     "metadata": {},
     "output_type": "execute_result"
    }
   ],
   "source": [
    "lr = LogisticRegression(**clf_lr.best_params_)\n",
    "lr.fit(X_train_and_val, y_train_and_val)"
   ]
  },
  {
   "cell_type": "code",
   "execution_count": 39,
   "metadata": {},
   "outputs": [
    {
     "data": {
      "text/plain": [
       "0.8979591836734694"
      ]
     },
     "execution_count": 39,
     "metadata": {},
     "output_type": "execute_result"
    }
   ],
   "source": [
    "preds = lr.predict(X_test)\n",
    "accuracy_score(y_test, preds)"
   ]
  },
  {
   "cell_type": "markdown",
   "metadata": {},
   "source": [
    "This is a decent accuracy for a simple approach like Logistic Regression, but it is usable. We can do better though!"
   ]
  },
  {
   "cell_type": "markdown",
   "metadata": {},
   "source": [
    "#### SVC"
   ]
  },
  {
   "cell_type": "code",
   "execution_count": 40,
   "metadata": {},
   "outputs": [],
   "source": [
    "param_grid = {'C': [0.1, 1, 10, 100, 1000], 'kernel': ['linear', 'rbf']}"
   ]
  },
  {
   "cell_type": "code",
   "execution_count": 41,
   "metadata": {},
   "outputs": [
    {
     "data": {
      "text/plain": [
       "GridSearchCV(cv=PredefinedSplit(test_fold=array([-1, -1, ...,  0,  0])),\n",
       "             estimator=SVC(), n_jobs=16,\n",
       "             param_grid={'C': [0.1, 1, 10, 100, 1000],\n",
       "                         'kernel': ['linear', 'rbf']},\n",
       "             scoring=make_scorer(accuracy_score))"
      ]
     },
     "execution_count": 41,
     "metadata": {},
     "output_type": "execute_result"
    }
   ],
   "source": [
    "clf_svc = GridSearchCV(SVC(), param_grid, scoring=accuracy_scorer, n_jobs=16, cv=ps)\n",
    "clf_svc.fit(X_train_and_val, y_train_and_val)"
   ]
  },
  {
   "cell_type": "code",
   "execution_count": 42,
   "metadata": {},
   "outputs": [
    {
     "data": {
      "text/plain": [
       "{'C': 10, 'kernel': 'rbf'}"
      ]
     },
     "execution_count": 42,
     "metadata": {},
     "output_type": "execute_result"
    }
   ],
   "source": [
    "clf_svc.best_params_"
   ]
  },
  {
   "cell_type": "code",
   "execution_count": 43,
   "metadata": {},
   "outputs": [
    {
     "data": {
      "text/plain": [
       "SVC(C=10)"
      ]
     },
     "execution_count": 43,
     "metadata": {},
     "output_type": "execute_result"
    }
   ],
   "source": [
    "svc = SVC(**clf_svc.best_params_)\n",
    "svc.fit(X_train_and_val, y_train_and_val)"
   ]
  },
  {
   "cell_type": "code",
   "execution_count": 44,
   "metadata": {},
   "outputs": [
    {
     "data": {
      "text/plain": [
       "0.8979591836734694"
      ]
     },
     "execution_count": 44,
     "metadata": {},
     "output_type": "execute_result"
    }
   ],
   "source": [
    "preds = svc.predict(X_test)\n",
    "accuracy_score(y_test, preds)"
   ]
  },
  {
   "cell_type": "markdown",
   "metadata": {},
   "source": [
    "This is exactly same as LR. While still usable, this is not much of an improvement."
   ]
  },
  {
   "cell_type": "markdown",
   "metadata": {},
   "source": [
    "#### MLP"
   ]
  },
  {
   "cell_type": "code",
   "execution_count": 45,
   "metadata": {},
   "outputs": [],
   "source": [
    "hidden_sizes = [16, 32, 64, 128]\n",
    "param_grid = {\n",
    "    'hidden_layer_sizes': [tuple([i]*2) for i in hidden_sizes],\n",
    "    'activation': ['tanh', 'relu', 'logistic'],\n",
    "    'alpha': [0.0001, 0.001, 0.01],\n",
    "    'learning_rate': ['constant', 'adaptive'],\n",
    "    'batch_size': [8, 16, 32, 64, 128, 'auto']\n",
    "}"
   ]
  },
  {
   "cell_type": "code",
   "execution_count": 46,
   "metadata": {},
   "outputs": [
    {
     "data": {
      "text/plain": [
       "GridSearchCV(cv=PredefinedSplit(test_fold=array([-1, -1, ...,  0,  0])),\n",
       "             estimator=MLPClassifier(), n_jobs=16,\n",
       "             param_grid={'activation': ['tanh', 'relu', 'logistic'],\n",
       "                         'alpha': [0.0001, 0.001, 0.01],\n",
       "                         'batch_size': [8, 16, 32, 64, 128, 'auto'],\n",
       "                         'hidden_layer_sizes': [(16, 16), (32, 32), (64, 64),\n",
       "                                                (128, 128)],\n",
       "                         'learning_rate': ['constant', 'adaptive']},\n",
       "             scoring=make_scorer(accuracy_score))"
      ]
     },
     "execution_count": 46,
     "metadata": {},
     "output_type": "execute_result"
    }
   ],
   "source": [
    "clf_mlpc = GridSearchCV(MLPClassifier(), param_grid, scoring=accuracy_scorer, n_jobs=16, cv=ps)\n",
    "clf_mlpc.fit(X_train_and_val, y_train_and_val)"
   ]
  },
  {
   "cell_type": "code",
   "execution_count": 47,
   "metadata": {},
   "outputs": [
    {
     "data": {
      "text/plain": [
       "{'activation': 'tanh',\n",
       " 'alpha': 0.001,\n",
       " 'batch_size': 'auto',\n",
       " 'hidden_layer_sizes': (128, 128),\n",
       " 'learning_rate': 'adaptive'}"
      ]
     },
     "execution_count": 47,
     "metadata": {},
     "output_type": "execute_result"
    }
   ],
   "source": [
    "clf_mlpc.best_params_"
   ]
  },
  {
   "cell_type": "code",
   "execution_count": 48,
   "metadata": {},
   "outputs": [
    {
     "data": {
      "text/plain": [
       "MLPClassifier(activation='tanh', alpha=0.001, hidden_layer_sizes=(128, 128),\n",
       "              learning_rate='adaptive')"
      ]
     },
     "execution_count": 48,
     "metadata": {},
     "output_type": "execute_result"
    }
   ],
   "source": [
    "mlpc = MLPClassifier(**clf_mlpc.best_params_)\n",
    "mlpc.fit(X_train_and_val, y_train_and_val)"
   ]
  },
  {
   "cell_type": "code",
   "execution_count": 49,
   "metadata": {},
   "outputs": [
    {
     "data": {
      "text/plain": [
       "0.8673469387755102"
      ]
     },
     "execution_count": 49,
     "metadata": {},
     "output_type": "execute_result"
    }
   ],
   "source": [
    "preds = mlpc.predict(X_test)\n",
    "accuracy_score(y_test, preds)"
   ]
  },
  {
   "cell_type": "markdown",
   "metadata": {},
   "source": [
    "As expected, MLP does not do well on this dataset due to the limited data available. The earlier two choices were relatively better."
   ]
  },
  {
   "cell_type": "markdown",
   "metadata": {},
   "source": [
    "#### Random Forest"
   ]
  },
  {
   "cell_type": "code",
   "execution_count": 50,
   "metadata": {},
   "outputs": [],
   "source": [
    "param_grid = {\n",
    "    'n_estimators': tuple(range(4,21)),\n",
    "    'max_depth': tuple(range(4,21)),\n",
    "    }"
   ]
  },
  {
   "cell_type": "code",
   "execution_count": 51,
   "metadata": {},
   "outputs": [
    {
     "data": {
      "text/plain": [
       "GridSearchCV(cv=PredefinedSplit(test_fold=array([-1, -1, ...,  0,  0])),\n",
       "             estimator=RandomForestClassifier(), n_jobs=16,\n",
       "             param_grid={'max_depth': (4, 5, 6, 7, 8, 9, 10, 11, 12, 13, 14, 15,\n",
       "                                       16, 17, 18, 19, 20),\n",
       "                         'n_estimators': (4, 5, 6, 7, 8, 9, 10, 11, 12, 13, 14,\n",
       "                                          15, 16, 17, 18, 19, 20)},\n",
       "             scoring=make_scorer(accuracy_score))"
      ]
     },
     "execution_count": 51,
     "metadata": {},
     "output_type": "execute_result"
    }
   ],
   "source": [
    "clf_rfc = GridSearchCV(RandomForestClassifier(), param_grid, scoring=accuracy_scorer, n_jobs=16, cv=ps)\n",
    "clf_rfc.fit(X_train_and_val, y_train_and_val)"
   ]
  },
  {
   "cell_type": "code",
   "execution_count": 52,
   "metadata": {},
   "outputs": [
    {
     "data": {
      "text/plain": [
       "{'max_depth': 11, 'n_estimators': 17}"
      ]
     },
     "execution_count": 52,
     "metadata": {},
     "output_type": "execute_result"
    }
   ],
   "source": [
    "clf_rfc.best_params_"
   ]
  },
  {
   "cell_type": "code",
   "execution_count": 53,
   "metadata": {},
   "outputs": [
    {
     "data": {
      "text/plain": [
       "RandomForestClassifier(max_depth=4, n_estimators=12)"
      ]
     },
     "execution_count": 53,
     "metadata": {},
     "output_type": "execute_result"
    }
   ],
   "source": [
    "rfc = RandomForestClassifier(**{'max_depth': 4, 'n_estimators': 12})\n",
    "rfc.fit(X_train_and_val, y_train_and_val)"
   ]
  },
  {
   "cell_type": "code",
   "execution_count": 54,
   "metadata": {},
   "outputs": [
    {
     "data": {
      "text/plain": [
       "0.8775510204081632"
      ]
     },
     "execution_count": 54,
     "metadata": {},
     "output_type": "execute_result"
    }
   ],
   "source": [
    "preds = rfc.predict(X_test)\n",
    "accuracy_score(y_test, preds)"
   ]
  },
  {
   "cell_type": "markdown",
   "metadata": {},
   "source": [
    "Again we get same accuracy as SVC and LR. All three models seems to do equally better on this task. "
   ]
  },
  {
   "cell_type": "markdown",
   "metadata": {},
   "source": [
    "### Question 5"
   ]
  },
  {
   "cell_type": "code",
   "execution_count": 55,
   "metadata": {},
   "outputs": [
    {
     "data": {
      "text/html": [
       "<div>\n",
       "<style scoped>\n",
       "    .dataframe tbody tr th:only-of-type {\n",
       "        vertical-align: middle;\n",
       "    }\n",
       "\n",
       "    .dataframe tbody tr th {\n",
       "        vertical-align: top;\n",
       "    }\n",
       "\n",
       "    .dataframe thead th {\n",
       "        text-align: right;\n",
       "    }\n",
       "</style>\n",
       "<table border=\"1\" class=\"dataframe\">\n",
       "  <thead>\n",
       "    <tr style=\"text-align: right;\">\n",
       "      <th></th>\n",
       "      <th>0</th>\n",
       "      <th>1</th>\n",
       "      <th>2</th>\n",
       "      <th>3</th>\n",
       "      <th>4</th>\n",
       "      <th>5</th>\n",
       "      <th>6</th>\n",
       "      <th>7</th>\n",
       "      <th>8</th>\n",
       "      <th>9</th>\n",
       "      <th>...</th>\n",
       "      <th>55</th>\n",
       "      <th>56</th>\n",
       "      <th>57</th>\n",
       "      <th>58</th>\n",
       "      <th>59</th>\n",
       "      <th>60</th>\n",
       "      <th>61</th>\n",
       "      <th>62</th>\n",
       "      <th>63</th>\n",
       "      <th>64</th>\n",
       "    </tr>\n",
       "  </thead>\n",
       "  <tbody>\n",
       "    <tr>\n",
       "      <th>0</th>\n",
       "      <td>26.0</td>\n",
       "      <td>4.0</td>\n",
       "      <td>5.0</td>\n",
       "      <td>8.0</td>\n",
       "      <td>-1.0</td>\n",
       "      <td>-13.0</td>\n",
       "      <td>-109.0</td>\n",
       "      <td>-66.0</td>\n",
       "      <td>-9.0</td>\n",
       "      <td>2.0</td>\n",
       "      <td>...</td>\n",
       "      <td>-28.0</td>\n",
       "      <td>61.0</td>\n",
       "      <td>4.0</td>\n",
       "      <td>8.0</td>\n",
       "      <td>5.0</td>\n",
       "      <td>4.0</td>\n",
       "      <td>-7.0</td>\n",
       "      <td>-59.0</td>\n",
       "      <td>16.0</td>\n",
       "      <td>0</td>\n",
       "    </tr>\n",
       "    <tr>\n",
       "      <th>1</th>\n",
       "      <td>-47.0</td>\n",
       "      <td>-6.0</td>\n",
       "      <td>-5.0</td>\n",
       "      <td>-7.0</td>\n",
       "      <td>13.0</td>\n",
       "      <td>-1.0</td>\n",
       "      <td>35.0</td>\n",
       "      <td>-10.0</td>\n",
       "      <td>10.0</td>\n",
       "      <td>-4.0</td>\n",
       "      <td>...</td>\n",
       "      <td>-25.0</td>\n",
       "      <td>47.0</td>\n",
       "      <td>6.0</td>\n",
       "      <td>6.0</td>\n",
       "      <td>5.0</td>\n",
       "      <td>13.0</td>\n",
       "      <td>21.0</td>\n",
       "      <td>111.0</td>\n",
       "      <td>15.0</td>\n",
       "      <td>0</td>\n",
       "    </tr>\n",
       "    <tr>\n",
       "      <th>2</th>\n",
       "      <td>-19.0</td>\n",
       "      <td>-8.0</td>\n",
       "      <td>-8.0</td>\n",
       "      <td>-8.0</td>\n",
       "      <td>-21.0</td>\n",
       "      <td>-6.0</td>\n",
       "      <td>-79.0</td>\n",
       "      <td>12.0</td>\n",
       "      <td>0.0</td>\n",
       "      <td>5.0</td>\n",
       "      <td>...</td>\n",
       "      <td>-83.0</td>\n",
       "      <td>7.0</td>\n",
       "      <td>7.0</td>\n",
       "      <td>1.0</td>\n",
       "      <td>-8.0</td>\n",
       "      <td>7.0</td>\n",
       "      <td>21.0</td>\n",
       "      <td>114.0</td>\n",
       "      <td>48.0</td>\n",
       "      <td>0</td>\n",
       "    </tr>\n",
       "    <tr>\n",
       "      <th>3</th>\n",
       "      <td>2.0</td>\n",
       "      <td>3.0</td>\n",
       "      <td>0.0</td>\n",
       "      <td>2.0</td>\n",
       "      <td>0.0</td>\n",
       "      <td>22.0</td>\n",
       "      <td>106.0</td>\n",
       "      <td>-14.0</td>\n",
       "      <td>-16.0</td>\n",
       "      <td>-2.0</td>\n",
       "      <td>...</td>\n",
       "      <td>-38.0</td>\n",
       "      <td>-11.0</td>\n",
       "      <td>4.0</td>\n",
       "      <td>7.0</td>\n",
       "      <td>11.0</td>\n",
       "      <td>33.0</td>\n",
       "      <td>39.0</td>\n",
       "      <td>119.0</td>\n",
       "      <td>43.0</td>\n",
       "      <td>0</td>\n",
       "    </tr>\n",
       "    <tr>\n",
       "      <th>4</th>\n",
       "      <td>6.0</td>\n",
       "      <td>0.0</td>\n",
       "      <td>0.0</td>\n",
       "      <td>-2.0</td>\n",
       "      <td>-14.0</td>\n",
       "      <td>10.0</td>\n",
       "      <td>-51.0</td>\n",
       "      <td>5.0</td>\n",
       "      <td>7.0</td>\n",
       "      <td>0.0</td>\n",
       "      <td>...</td>\n",
       "      <td>38.0</td>\n",
       "      <td>-35.0</td>\n",
       "      <td>-8.0</td>\n",
       "      <td>2.0</td>\n",
       "      <td>6.0</td>\n",
       "      <td>-13.0</td>\n",
       "      <td>-24.0</td>\n",
       "      <td>-112.0</td>\n",
       "      <td>-69.0</td>\n",
       "      <td>0</td>\n",
       "    </tr>\n",
       "  </tbody>\n",
       "</table>\n",
       "<p>5 rows × 65 columns</p>\n",
       "</div>"
      ],
      "text/plain": [
       "     0    1    2    3     4     5      6     7     8    9   ...    55    56  \\\n",
       "0  26.0  4.0  5.0  8.0  -1.0 -13.0 -109.0 -66.0  -9.0  2.0  ... -28.0  61.0   \n",
       "1 -47.0 -6.0 -5.0 -7.0  13.0  -1.0   35.0 -10.0  10.0 -4.0  ... -25.0  47.0   \n",
       "2 -19.0 -8.0 -8.0 -8.0 -21.0  -6.0  -79.0  12.0   0.0  5.0  ... -83.0   7.0   \n",
       "3   2.0  3.0  0.0  2.0   0.0  22.0  106.0 -14.0 -16.0 -2.0  ... -38.0 -11.0   \n",
       "4   6.0  0.0  0.0 -2.0 -14.0  10.0  -51.0   5.0   7.0  0.0  ...  38.0 -35.0   \n",
       "\n",
       "    57   58    59    60    61     62    63  64  \n",
       "0  4.0  8.0   5.0   4.0  -7.0  -59.0  16.0   0  \n",
       "1  6.0  6.0   5.0  13.0  21.0  111.0  15.0   0  \n",
       "2  7.0  1.0  -8.0   7.0  21.0  114.0  48.0   0  \n",
       "3  4.0  7.0  11.0  33.0  39.0  119.0  43.0   0  \n",
       "4 -8.0  2.0   6.0 -13.0 -24.0 -112.0 -69.0   0  \n",
       "\n",
       "[5 rows x 65 columns]"
      ]
     },
     "execution_count": 55,
     "metadata": {},
     "output_type": "execute_result"
    }
   ],
   "source": [
    "names = ['f'+str(i) for i in range(1,65)] + ['y']\n",
    "\n",
    "df0 = pd.read_csv('0.csv', header = None)\n",
    "df1 = pd.read_csv('1.csv', header = None)\n",
    "df2 = pd.read_csv('2.csv', header = None)\n",
    "df3 = pd.read_csv('3.csv', header = None)\n",
    "\n",
    "df = pd.concat([df0, df1, df2, df3], axis=0, ignore_index=True)\n",
    "df.head()"
   ]
  },
  {
   "cell_type": "code",
   "execution_count": 56,
   "metadata": {},
   "outputs": [],
   "source": [
    "X, y = df.drop(columns=[64]), df[64]"
   ]
  },
  {
   "cell_type": "code",
   "execution_count": 57,
   "metadata": {},
   "outputs": [],
   "source": [
    "# standardizing the data\n",
    "X = StandardScaler().fit_transform(X)"
   ]
  },
  {
   "cell_type": "markdown",
   "metadata": {},
   "source": [
    "Our target is to be within 1% of the standard deviation of the L2 norm of the 64 variable input. We perform PCA with the reduced dimension count varying from 1 to 64 to see at what minimum dimension do we achieve our target. This is done by comparing RMSE of the reconstruction with the 1% threshold"
   ]
  },
  {
   "cell_type": "code",
   "execution_count": 58,
   "metadata": {},
   "outputs": [
    {
     "data": {
      "text/plain": [
       "0.029265780194476922"
      ]
     },
     "execution_count": 58,
     "metadata": {},
     "output_type": "execute_result"
    }
   ],
   "source": [
    "# Calculating threshold\n",
    "threshold = 0.01 * np.std(np.linalg.norm(X, axis = -1))\n",
    "threshold"
   ]
  },
  {
   "cell_type": "code",
   "execution_count": 59,
   "metadata": {},
   "outputs": [
    {
     "name": "stdout",
     "output_type": "stream",
     "text": [
      "Minimum dimension that it can be compressed to while achieving target: 63\n"
     ]
    }
   ],
   "source": [
    "recon_errs = [] # to track errors of re-construction from selected subset of eigenvectors\n",
    "flag = 0\n",
    "for i in range(1, X.shape[1]+1):\n",
    "    pca = PCA(n_components=i, random_state=SEED)\n",
    "    X_compressed = pca.fit_transform(X)\n",
    "    X_reconstructed = pca.inverse_transform(X_compressed)\n",
    "    recon_err = mean_squared_error(X, X_reconstructed, squared=False)\n",
    "    if flag == 0 and recon_err <= threshold:\n",
    "        flag = 1\n",
    "        print(f'Minimum dimension that it can be compressed to while achieving target: {i}')\n",
    "    recon_errs.append(recon_err)"
   ]
  },
  {
   "cell_type": "code",
   "execution_count": 60,
   "metadata": {},
   "outputs": [
    {
     "data": {
      "image/png": "[encoded data removed]",
      "text/plain": [
       "<Figure size 576x432 with 1 Axes>"
      ]
     },
     "metadata": {
      "needs_background": "light"
     },
     "output_type": "display_data"
    }
   ],
   "source": [
    "plt.figure(figsize=(8,6))\n",
    "plt.plot(list(range(1, 65)), recon_errs, label = 'RMSE reconstruction errors')\n",
    "plt.plot(list(range(1, 65)), [threshold for i in range(1, 65)], label = 'Threshold')\n",
    "plt.title('Error of reconstruction vs dimension of compressed data (1% threshold)')\n",
    "plt.xlabel('Dimension of Compressed data')\n",
    "plt.ylabel('Normalised RMSE of Reconstruction')\n",
    "plt.legend()\n",
    "plt.grid()\n",
    "plt.show()"
   ]
  },
  {
   "cell_type": "code",
   "execution_count": 61,
   "metadata": {},
   "outputs": [
    {
     "name": "stdout",
     "output_type": "stream",
     "text": [
      "Minimum dimension that it can be compressed to while achieving target: 62\n"
     ]
    }
   ],
   "source": [
    "# trying with 2% threshold\n",
    "\n",
    "recon_errs = [] # to track errors of re-construction from selected subset of eigenvectors\n",
    "flag = 0\n",
    "for i in range(1, X.shape[1]+1):\n",
    "    pca = PCA(n_components=i, random_state=SEED)\n",
    "    X_compressed = pca.fit_transform(X)\n",
    "    X_reconstructed = pca.inverse_transform(X_compressed)\n",
    "    recon_err = mean_squared_error(X, X_reconstructed, squared=False)\n",
    "    if flag == 0 and recon_err <= 2*threshold:\n",
    "        flag = 1\n",
    "        print(f'Minimum dimension that it can be compressed to while achieving target: {i}')\n",
    "    recon_errs.append(recon_err)"
   ]
  },
  {
   "cell_type": "code",
   "execution_count": 62,
   "metadata": {},
   "outputs": [
    {
     "data": {
      "image/png": "[encoded data removed]",
      "text/plain": [
       "<Figure size 576x432 with 1 Axes>"
      ]
     },
     "metadata": {
      "needs_background": "light"
     },
     "output_type": "display_data"
    }
   ],
   "source": [
    "plt.figure(figsize=(8,6))\n",
    "plt.plot(list(range(1, 65)), recon_errs, label = 'RMSE reconstruction errors')\n",
    "plt.plot(list(range(1, 65)), [2*threshold for i in range(1, 65)], label = 'Threshold')\n",
    "plt.title('Error of reconstruction vs dimension of compressed data (2% threshold)')\n",
    "plt.xlabel('Dimension of Compressed data')\n",
    "plt.ylabel('Normalised RMSE of Reconstruction')\n",
    "plt.legend()\n",
    "plt.grid()\n",
    "plt.show()"
   ]
  }
 ],
 "metadata": {
  "kernelspec": {
   "display_name": "Python 3",
   "language": "python",
   "name": "python3"
  },
  "language_info": {
   "codemirror_mode": {
    "name": "ipython",
    "version": 3
   },
   "file_extension": ".py",
   "mimetype": "text/x-python",
   "name": "python",
   "nbconvert_exporter": "python",
   "pygments_lexer": "ipython3",
   "version": "3.8.5"
  }
 },
 "nbformat": 4,
 "nbformat_minor": 4
}
