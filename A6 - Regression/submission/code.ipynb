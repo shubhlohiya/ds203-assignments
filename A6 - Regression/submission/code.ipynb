{
 "cells": [
  {
   "cell_type": "markdown",
   "metadata": {},
   "source": [
    "<h1 style='text-align: center; color: blue;'>DS 203 Assignment 6: Linear and Logistic Regression</h1>\n",
    "<h3 style='text-align: right; color: red;'>~ Shubham Lohiya, 18D100020</h3>"
   ]
  },
  {
   "cell_type": "code",
   "execution_count": 1,
   "metadata": {},
   "outputs": [],
   "source": [
    "import numpy as np\n",
    "import pandas as pd\n",
    "from sklearn.model_selection import train_test_split\n",
    "from sklearn import linear_model\n",
    "from sklearn.metrics import mean_squared_error, r2_score\n",
    "from IPython.display import display\n",
    "\n",
    "seed = 123\n",
    "np.random.seed(seed)"
   ]
  },
  {
   "cell_type": "markdown",
   "metadata": {},
   "source": [
    "# Exercise 1: (Linear Regression)"
   ]
  },
  {
   "cell_type": "code",
   "execution_count": 2,
   "metadata": {
    "scrolled": false
   },
   "outputs": [
    {
     "data": {
      "text/html": [
       "<div>\n",
       "<style scoped>\n",
       "    .dataframe tbody tr th:only-of-type {\n",
       "        vertical-align: middle;\n",
       "    }\n",
       "\n",
       "    .dataframe tbody tr th {\n",
       "        vertical-align: top;\n",
       "    }\n",
       "\n",
       "    .dataframe thead th {\n",
       "        text-align: right;\n",
       "    }\n",
       "</style>\n",
       "<table border=\"1\" class=\"dataframe\">\n",
       "  <thead>\n",
       "    <tr style=\"text-align: right;\">\n",
       "      <th></th>\n",
       "      <th>X1 transaction date</th>\n",
       "      <th>X2 house age</th>\n",
       "      <th>X3 distance to the nearest MRT station</th>\n",
       "      <th>X4 number of convenience stores</th>\n",
       "      <th>X5 latitude</th>\n",
       "      <th>X6 longitude</th>\n",
       "      <th>Y house price of unit area</th>\n",
       "    </tr>\n",
       "  </thead>\n",
       "  <tbody>\n",
       "    <tr>\n",
       "      <th>1</th>\n",
       "      <td>2012.916667</td>\n",
       "      <td>19.5</td>\n",
       "      <td>306.5947</td>\n",
       "      <td>9</td>\n",
       "      <td>24.98034</td>\n",
       "      <td>121.53951</td>\n",
       "      <td>42.2</td>\n",
       "    </tr>\n",
       "    <tr>\n",
       "      <th>2</th>\n",
       "      <td>2013.583333</td>\n",
       "      <td>13.3</td>\n",
       "      <td>561.9845</td>\n",
       "      <td>5</td>\n",
       "      <td>24.98746</td>\n",
       "      <td>121.54391</td>\n",
       "      <td>47.3</td>\n",
       "    </tr>\n",
       "    <tr>\n",
       "      <th>3</th>\n",
       "      <td>2013.500000</td>\n",
       "      <td>13.3</td>\n",
       "      <td>561.9845</td>\n",
       "      <td>5</td>\n",
       "      <td>24.98746</td>\n",
       "      <td>121.54391</td>\n",
       "      <td>54.8</td>\n",
       "    </tr>\n",
       "    <tr>\n",
       "      <th>4</th>\n",
       "      <td>2012.833333</td>\n",
       "      <td>5.0</td>\n",
       "      <td>390.5684</td>\n",
       "      <td>5</td>\n",
       "      <td>24.97937</td>\n",
       "      <td>121.54245</td>\n",
       "      <td>43.1</td>\n",
       "    </tr>\n",
       "    <tr>\n",
       "      <th>5</th>\n",
       "      <td>2012.666667</td>\n",
       "      <td>7.1</td>\n",
       "      <td>2175.0300</td>\n",
       "      <td>3</td>\n",
       "      <td>24.96305</td>\n",
       "      <td>121.51254</td>\n",
       "      <td>32.1</td>\n",
       "    </tr>\n",
       "  </tbody>\n",
       "</table>\n",
       "</div>"
      ],
      "text/plain": [
       "   X1 transaction date  X2 house age  X3 distance to the nearest MRT station  \\\n",
       "1          2012.916667          19.5                                306.5947   \n",
       "2          2013.583333          13.3                                561.9845   \n",
       "3          2013.500000          13.3                                561.9845   \n",
       "4          2012.833333           5.0                                390.5684   \n",
       "5          2012.666667           7.1                               2175.0300   \n",
       "\n",
       "   X4 number of convenience stores  X5 latitude  X6 longitude  \\\n",
       "1                                9     24.98034     121.53951   \n",
       "2                                5     24.98746     121.54391   \n",
       "3                                5     24.98746     121.54391   \n",
       "4                                5     24.97937     121.54245   \n",
       "5                                3     24.96305     121.51254   \n",
       "\n",
       "   Y house price of unit area  \n",
       "1                        42.2  \n",
       "2                        47.3  \n",
       "3                        54.8  \n",
       "4                        43.1  \n",
       "5                        32.1  "
      ]
     },
     "execution_count": 2,
     "metadata": {},
     "output_type": "execute_result"
    }
   ],
   "source": [
    "df = pd.read_excel('Real estate valuation data set.xlsx')\n",
    "df = df.drop(columns=['No']).iloc[1:]\n",
    "df.head()"
   ]
  },
  {
   "cell_type": "code",
   "execution_count": 3,
   "metadata": {},
   "outputs": [],
   "source": [
    "def get_data(df, test_size=0.2, random_state=seed, verbose=True):\n",
    "    def get_dataset_from_df(df):\n",
    "        arr = df.to_numpy()\n",
    "        X, y = arr[:, :-1], arr[:, -1]\n",
    "        return X, y\n",
    "\n",
    "    train_df, test_df = train_test_split(df, test_size=test_size, random_state=random_state)\n",
    "    train_X, train_y = get_dataset_from_df(train_df)\n",
    "    test_X, test_y = get_dataset_from_df(test_df)\n",
    "    \n",
    "    if verbose:\n",
    "        print(f'Trainset: X - {train_X.shape}, Y - {train_y.shape}')\n",
    "        print(f'Testset: X - {test_X.shape}, Y - {test_y.shape}')\n",
    "    \n",
    "    return train_X, train_y, test_X, test_y\n",
    "\n",
    "\n",
    "def fit_reg_model(train_X, train_y, test_X=None, test_y=None, model_type='ridge', alpha=1.0, verbose=True):\n",
    "    mse, r2 = None, None\n",
    "    models = {'simple': linear_model.LinearRegression,\n",
    "          'ridge': linear_model.Ridge,\n",
    "          'lasso': linear_model.Lasso}\n",
    "    if model_type.lower() not in models.keys():\n",
    "        raise ValueError(\"Invalid model type, choose from {'simple', 'ridge', 'lasso'}\")\n",
    "    model = models[model_type]() if model_type == 'simple' else models[model_type](alpha=alpha)\n",
    "    model.fit(train_X, train_y)\n",
    "    if verbose:\n",
    "        print(f'Trained model:\\n\\n Coefficients:\\n{model.coef_}\\n\\n Intercept: {model.intercept_}\\n')\n",
    "    if test_X is not None and test_y is not None:\n",
    "        preds = model.predict(test_X)\n",
    "        mse, r2 = np.round(mean_squared_error(test_y, preds), 4), np.round(r2_score(test_y, preds), 4)\n",
    "        if verbose:\n",
    "            print(f'Test set results:\\n')\n",
    "            print(f'MSE: {mse}')\n",
    "            print(f'r2 Score: {r2}')\n",
    "            \n",
    "    return model, (mse, r2)"
   ]
  },
  {
   "cell_type": "markdown",
   "metadata": {},
   "source": [
    "### Prepare Dataset"
   ]
  },
  {
   "cell_type": "code",
   "execution_count": 4,
   "metadata": {},
   "outputs": [
    {
     "name": "stdout",
     "output_type": "stream",
     "text": [
      "Trainset: X - (330, 6), Y - (330,)\n",
      "Testset: X - (83, 6), Y - (83,)\n"
     ]
    }
   ],
   "source": [
    "train_X, train_y, test_X, test_y = get_data(df, test_size=0.2)"
   ]
  },
  {
   "cell_type": "markdown",
   "metadata": {},
   "source": [
    "### Linear Regression"
   ]
  },
  {
   "cell_type": "code",
   "execution_count": 5,
   "metadata": {},
   "outputs": [
    {
     "name": "stdout",
     "output_type": "stream",
     "text": [
      "Trained model:\n",
      "\n",
      " Coefficients:\n",
      "[ 6.08718711e+00 -2.52176180e-01 -4.77065632e-03  9.86505903e-01\n",
      "  2.07070866e+02 -1.01317070e+01]\n",
      "\n",
      " Intercept: -16149.885202552152\n",
      "\n",
      "Test set results:\n",
      "\n",
      "MSE: 48.4298\n",
      "r2 Score: 0.6961\n"
     ]
    }
   ],
   "source": [
    "logs = fit_reg_model(train_X, train_y, test_X=test_X, test_y=test_y, model_type='simple')"
   ]
  },
  {
   "cell_type": "markdown",
   "metadata": {},
   "source": [
    "### Ridge Regression"
   ]
  },
  {
   "cell_type": "code",
   "execution_count": 6,
   "metadata": {},
   "outputs": [
    {
     "name": "stdout",
     "output_type": "stream",
     "text": [
      "Trained model:\n",
      "\n",
      " Coefficients:\n",
      "[ 6.51803603e+00 -2.39993266e-01 -5.72696190e-03  1.05465753e+00\n",
      "  6.82784606e+00 -1.06281086e+00]\n",
      "\n",
      " Intercept: -13118.946312609578\n",
      "\n",
      "Test set results:\n",
      "\n",
      "MSE: 55.6732\n",
      "r2 Score: 0.6506\n"
     ]
    }
   ],
   "source": [
    "logs = fit_reg_model(train_X, train_y, test_X=test_X, test_y=test_y, model_type='ridge')"
   ]
  },
  {
   "cell_type": "markdown",
   "metadata": {},
   "source": [
    "### Lasso Regression"
   ]
  },
  {
   "cell_type": "code",
   "execution_count": 7,
   "metadata": {},
   "outputs": [
    {
     "name": "stdout",
     "output_type": "stream",
     "text": [
      "Trained model:\n",
      "\n",
      " Coefficients:\n",
      "[ 0.         -0.22531194 -0.00580186  0.94447023  0.         -0.        ]\n",
      "\n",
      " Intercept: 44.499131730628115\n",
      "\n",
      "Test set results:\n",
      "\n",
      "MSE: 56.6011\n",
      "r2 Score: 0.6448\n"
     ]
    }
   ],
   "source": [
    "logs = fit_reg_model(train_X, train_y, test_X=test_X, test_y=test_y, model_type='lasso')"
   ]
  },
  {
   "cell_type": "markdown",
   "metadata": {},
   "source": [
    "### Effect of data split ratio and regularization parameter"
   ]
  },
  {
   "cell_type": "code",
   "execution_count": 8,
   "metadata": {},
   "outputs": [],
   "source": [
    "splits = [0.4, 0.3, 0.1]\n",
    "alphas = [0.001, 0.005, 0.01, 0.05, 0.1, 0.5]\n",
    "split_headings = [f'{int(100*(1-i))}:{int(100*i)}' for i in splits]"
   ]
  },
  {
   "cell_type": "markdown",
   "metadata": {},
   "source": [
    "#### Linear Regression"
   ]
  },
  {
   "cell_type": "code",
   "execution_count": 9,
   "metadata": {},
   "outputs": [
    {
     "name": "stdout",
     "output_type": "stream",
     "text": [
      "Linear Regression - effect of data split ratio\n"
     ]
    },
    {
     "data": {
      "text/html": [
       "<div>\n",
       "<style scoped>\n",
       "    .dataframe tbody tr th:only-of-type {\n",
       "        vertical-align: middle;\n",
       "    }\n",
       "\n",
       "    .dataframe tbody tr th {\n",
       "        vertical-align: top;\n",
       "    }\n",
       "\n",
       "    .dataframe thead th {\n",
       "        text-align: right;\n",
       "    }\n",
       "</style>\n",
       "<table border=\"1\" class=\"dataframe\">\n",
       "  <thead>\n",
       "    <tr style=\"text-align: right;\">\n",
       "      <th></th>\n",
       "      <th>60:40</th>\n",
       "      <th>70:30</th>\n",
       "      <th>90:10</th>\n",
       "    </tr>\n",
       "  </thead>\n",
       "  <tbody>\n",
       "    <tr>\n",
       "      <th>mse</th>\n",
       "      <td>56.1040</td>\n",
       "      <td>59.0785</td>\n",
       "      <td>48.3609</td>\n",
       "    </tr>\n",
       "    <tr>\n",
       "      <th>r2</th>\n",
       "      <td>0.6382</td>\n",
       "      <td>0.6418</td>\n",
       "      <td>0.6748</td>\n",
       "    </tr>\n",
       "  </tbody>\n",
       "</table>\n",
       "</div>"
      ],
      "text/plain": [
       "       60:40    70:30    90:10\n",
       "mse  56.1040  59.0785  48.3609\n",
       "r2    0.6382   0.6418   0.6748"
      ]
     },
     "metadata": {},
     "output_type": "display_data"
    }
   ],
   "source": [
    "res = {split: dict() for split in split_headings}\n",
    "for split, heading in zip(splits, split_headings):\n",
    "    train_X, train_y, test_X, test_y = get_data(df, test_size=split, verbose=False)\n",
    "    _, (mse, r2) = fit_reg_model(train_X, train_y, test_X=test_X, test_y=test_y,\n",
    "                             model_type='simple', verbose=False)\n",
    "    res[heading]['mse'] = mse\n",
    "    res[heading]['r2'] = r2\n",
    "\n",
    "print('Linear Regression - effect of data split ratio')\n",
    "display(pd.DataFrame(res))"
   ]
  },
  {
   "cell_type": "markdown",
   "metadata": {},
   "source": [
    "#### Ridge Regression"
   ]
  },
  {
   "cell_type": "code",
   "execution_count": 10,
   "metadata": {},
   "outputs": [
    {
     "name": "stdout",
     "output_type": "stream",
     "text": [
      "Ridge Regression - effect of data split ratio and regularization parameter\n"
     ]
    },
    {
     "data": {
      "text/html": [
       "<div>\n",
       "<style scoped>\n",
       "    .dataframe tbody tr th:only-of-type {\n",
       "        vertical-align: middle;\n",
       "    }\n",
       "\n",
       "    .dataframe tbody tr th {\n",
       "        vertical-align: top;\n",
       "    }\n",
       "\n",
       "    .dataframe thead th {\n",
       "        text-align: right;\n",
       "    }\n",
       "</style>\n",
       "<table border=\"1\" class=\"dataframe\">\n",
       "  <thead>\n",
       "    <tr style=\"text-align: right;\">\n",
       "      <th></th>\n",
       "      <th>60:40</th>\n",
       "      <th>70:30</th>\n",
       "      <th>90:10</th>\n",
       "    </tr>\n",
       "  </thead>\n",
       "  <tbody>\n",
       "    <tr>\n",
       "      <th>0.001</th>\n",
       "      <td>mse: 56.0063, r2: 0.6389</td>\n",
       "      <td>mse: 59.133, r2: 0.6415</td>\n",
       "      <td>mse: 48.3696, r2: 0.6748</td>\n",
       "    </tr>\n",
       "    <tr>\n",
       "      <th>0.005</th>\n",
       "      <td>mse: 55.7886, r2: 0.6403</td>\n",
       "      <td>mse: 59.3852, r2: 0.6399</td>\n",
       "      <td>mse: 48.4521, r2: 0.6742</td>\n",
       "    </tr>\n",
       "    <tr>\n",
       "      <th>0.010</th>\n",
       "      <td>mse: 55.7377, r2: 0.6406</td>\n",
       "      <td>mse: 59.7247, r2: 0.6379</td>\n",
       "      <td>mse: 48.6157, r2: 0.6731</td>\n",
       "    </tr>\n",
       "    <tr>\n",
       "      <th>0.050</th>\n",
       "      <td>mse: 56.5974, r2: 0.6351</td>\n",
       "      <td>mse: 61.6428, r2: 0.6263</td>\n",
       "      <td>mse: 49.9688, r2: 0.664</td>\n",
       "    </tr>\n",
       "    <tr>\n",
       "      <th>0.100</th>\n",
       "      <td>mse: 57.2845, r2: 0.6306</td>\n",
       "      <td>mse: 62.6805, r2: 0.62</td>\n",
       "      <td>mse: 50.8876, r2: 0.6578</td>\n",
       "    </tr>\n",
       "    <tr>\n",
       "      <th>0.500</th>\n",
       "      <td>mse: 58.2777, r2: 0.6242</td>\n",
       "      <td>mse: 64.0929, r2: 0.6114</td>\n",
       "      <td>mse: 52.3477, r2: 0.648</td>\n",
       "    </tr>\n",
       "  </tbody>\n",
       "</table>\n",
       "</div>"
      ],
      "text/plain": [
       "                          60:40                     70:30  \\\n",
       "0.001  mse: 56.0063, r2: 0.6389   mse: 59.133, r2: 0.6415   \n",
       "0.005  mse: 55.7886, r2: 0.6403  mse: 59.3852, r2: 0.6399   \n",
       "0.010  mse: 55.7377, r2: 0.6406  mse: 59.7247, r2: 0.6379   \n",
       "0.050  mse: 56.5974, r2: 0.6351  mse: 61.6428, r2: 0.6263   \n",
       "0.100  mse: 57.2845, r2: 0.6306    mse: 62.6805, r2: 0.62   \n",
       "0.500  mse: 58.2777, r2: 0.6242  mse: 64.0929, r2: 0.6114   \n",
       "\n",
       "                          90:10  \n",
       "0.001  mse: 48.3696, r2: 0.6748  \n",
       "0.005  mse: 48.4521, r2: 0.6742  \n",
       "0.010  mse: 48.6157, r2: 0.6731  \n",
       "0.050   mse: 49.9688, r2: 0.664  \n",
       "0.100  mse: 50.8876, r2: 0.6578  \n",
       "0.500   mse: 52.3477, r2: 0.648  "
      ]
     },
     "metadata": {},
     "output_type": "display_data"
    }
   ],
   "source": [
    "res = np.empty((len(alphas), len(splits)), dtype=str).tolist()\n",
    "for i, alpha in enumerate(alphas):\n",
    "    for j, split in enumerate(splits):\n",
    "        train_X, train_y, test_X, test_y = get_data(df, test_size=split, verbose=False)\n",
    "        _, (mse, r2) = fit_reg_model(train_X, train_y, test_X=test_X, test_y=test_y,\n",
    "                                 model_type='ridge', alpha = alpha, verbose=False)\n",
    "        res[i][j] = f'mse: {mse}, r2: {r2}'\n",
    "\n",
    "print('Ridge Regression - effect of data split ratio and regularization parameter')\n",
    "display(pd.DataFrame(data=res, index=alphas, columns=split_headings))"
   ]
  },
  {
   "cell_type": "markdown",
   "metadata": {},
   "source": [
    "#### Lasso Regression"
   ]
  },
  {
   "cell_type": "code",
   "execution_count": 11,
   "metadata": {},
   "outputs": [
    {
     "name": "stdout",
     "output_type": "stream",
     "text": [
      "Lasso Regression - effect of data split ratio and regularization parameter\n"
     ]
    },
    {
     "data": {
      "text/html": [
       "<div>\n",
       "<style scoped>\n",
       "    .dataframe tbody tr th:only-of-type {\n",
       "        vertical-align: middle;\n",
       "    }\n",
       "\n",
       "    .dataframe tbody tr th {\n",
       "        vertical-align: top;\n",
       "    }\n",
       "\n",
       "    .dataframe thead th {\n",
       "        text-align: right;\n",
       "    }\n",
       "</style>\n",
       "<table border=\"1\" class=\"dataframe\">\n",
       "  <thead>\n",
       "    <tr style=\"text-align: right;\">\n",
       "      <th></th>\n",
       "      <th>60:40</th>\n",
       "      <th>70:30</th>\n",
       "      <th>90:10</th>\n",
       "    </tr>\n",
       "  </thead>\n",
       "  <tbody>\n",
       "    <tr>\n",
       "      <th>0.001</th>\n",
       "      <td>mse: 55.9502, r2: 0.6392</td>\n",
       "      <td>mse: 59.1764, r2: 0.6412</td>\n",
       "      <td>mse: 48.4315, r2: 0.6744</td>\n",
       "    </tr>\n",
       "    <tr>\n",
       "      <th>0.005</th>\n",
       "      <td>mse: 55.7275, r2: 0.6407</td>\n",
       "      <td>mse: 59.6281, r2: 0.6385</td>\n",
       "      <td>mse: 48.6645, r2: 0.6728</td>\n",
       "    </tr>\n",
       "    <tr>\n",
       "      <th>0.010</th>\n",
       "      <td>mse: 55.786, r2: 0.6403</td>\n",
       "      <td>mse: 60.5392, r2: 0.6329</td>\n",
       "      <td>mse: 49.3349, r2: 0.6683</td>\n",
       "    </tr>\n",
       "    <tr>\n",
       "      <th>0.050</th>\n",
       "      <td>mse: 58.4947, r2: 0.6228</td>\n",
       "      <td>mse: 64.3884, r2: 0.6096</td>\n",
       "      <td>mse: 52.731, r2: 0.6454</td>\n",
       "    </tr>\n",
       "    <tr>\n",
       "      <th>0.100</th>\n",
       "      <td>mse: 58.3026, r2: 0.6241</td>\n",
       "      <td>mse: 64.1018, r2: 0.6113</td>\n",
       "      <td>mse: 52.5384, r2: 0.6467</td>\n",
       "    </tr>\n",
       "    <tr>\n",
       "      <th>0.500</th>\n",
       "      <td>mse: 59.566, r2: 0.6159</td>\n",
       "      <td>mse: 64.6232, r2: 0.6082</td>\n",
       "      <td>mse: 53.295, r2: 0.6417</td>\n",
       "    </tr>\n",
       "  </tbody>\n",
       "</table>\n",
       "</div>"
      ],
      "text/plain": [
       "                          60:40                     70:30  \\\n",
       "0.001  mse: 55.9502, r2: 0.6392  mse: 59.1764, r2: 0.6412   \n",
       "0.005  mse: 55.7275, r2: 0.6407  mse: 59.6281, r2: 0.6385   \n",
       "0.010   mse: 55.786, r2: 0.6403  mse: 60.5392, r2: 0.6329   \n",
       "0.050  mse: 58.4947, r2: 0.6228  mse: 64.3884, r2: 0.6096   \n",
       "0.100  mse: 58.3026, r2: 0.6241  mse: 64.1018, r2: 0.6113   \n",
       "0.500   mse: 59.566, r2: 0.6159  mse: 64.6232, r2: 0.6082   \n",
       "\n",
       "                          90:10  \n",
       "0.001  mse: 48.4315, r2: 0.6744  \n",
       "0.005  mse: 48.6645, r2: 0.6728  \n",
       "0.010  mse: 49.3349, r2: 0.6683  \n",
       "0.050   mse: 52.731, r2: 0.6454  \n",
       "0.100  mse: 52.5384, r2: 0.6467  \n",
       "0.500   mse: 53.295, r2: 0.6417  "
      ]
     },
     "metadata": {},
     "output_type": "display_data"
    }
   ],
   "source": [
    "res = np.empty((len(alphas), len(splits)), dtype=str).tolist()\n",
    "for i, alpha in enumerate(alphas):\n",
    "    for j, split in enumerate(splits):\n",
    "        train_X, train_y, test_X, test_y = get_data(df, test_size=split, verbose=False)\n",
    "        _, (mse, r2) = fit_reg_model(train_X, train_y, test_X=test_X, test_y=test_y,\n",
    "                                 model_type='lasso', alpha = alpha, verbose=False)\n",
    "        res[i][j] = f'mse: {mse}, r2: {r2}'\n",
    "\n",
    "print('Lasso Regression - effect of data split ratio and regularization parameter')\n",
    "display(pd.DataFrame(data=res, index=alphas, columns=split_headings))"
   ]
  },
  {
   "cell_type": "markdown",
   "metadata": {},
   "source": [
    "# Exercise 2: (Logistic Regression)"
   ]
  },
  {
   "cell_type": "code",
   "execution_count": 12,
   "metadata": {},
   "outputs": [
    {
     "data": {
      "text/html": [
       "<div>\n",
       "<style scoped>\n",
       "    .dataframe tbody tr th:only-of-type {\n",
       "        vertical-align: middle;\n",
       "    }\n",
       "\n",
       "    .dataframe tbody tr th {\n",
       "        vertical-align: top;\n",
       "    }\n",
       "\n",
       "    .dataframe thead th {\n",
       "        text-align: right;\n",
       "    }\n",
       "</style>\n",
       "<table border=\"1\" class=\"dataframe\">\n",
       "  <thead>\n",
       "    <tr style=\"text-align: right;\">\n",
       "      <th></th>\n",
       "      <th>age</th>\n",
       "      <th>op_yr - 1900</th>\n",
       "      <th>axillary nodes</th>\n",
       "      <th>Y</th>\n",
       "    </tr>\n",
       "  </thead>\n",
       "  <tbody>\n",
       "    <tr>\n",
       "      <th>0</th>\n",
       "      <td>30</td>\n",
       "      <td>64</td>\n",
       "      <td>1</td>\n",
       "      <td>1</td>\n",
       "    </tr>\n",
       "    <tr>\n",
       "      <th>1</th>\n",
       "      <td>30</td>\n",
       "      <td>62</td>\n",
       "      <td>3</td>\n",
       "      <td>1</td>\n",
       "    </tr>\n",
       "    <tr>\n",
       "      <th>2</th>\n",
       "      <td>30</td>\n",
       "      <td>65</td>\n",
       "      <td>0</td>\n",
       "      <td>1</td>\n",
       "    </tr>\n",
       "    <tr>\n",
       "      <th>3</th>\n",
       "      <td>31</td>\n",
       "      <td>59</td>\n",
       "      <td>2</td>\n",
       "      <td>1</td>\n",
       "    </tr>\n",
       "    <tr>\n",
       "      <th>4</th>\n",
       "      <td>31</td>\n",
       "      <td>65</td>\n",
       "      <td>4</td>\n",
       "      <td>1</td>\n",
       "    </tr>\n",
       "  </tbody>\n",
       "</table>\n",
       "</div>"
      ],
      "text/plain": [
       "   age  op_yr - 1900  axillary nodes  Y\n",
       "0   30            64               1  1\n",
       "1   30            62               3  1\n",
       "2   30            65               0  1\n",
       "3   31            59               2  1\n",
       "4   31            65               4  1"
      ]
     },
     "execution_count": 12,
     "metadata": {},
     "output_type": "execute_result"
    }
   ],
   "source": [
    "df = pd.read_csv('haberman.data', header=None, names=['age', 'op_yr - 1900', 'axillary nodes', 'Y'])\n",
    "df.Y = df.Y.apply(lambda x: 1 if x==1 else 0)\n",
    "df.head()"
   ]
  },
  {
   "cell_type": "code",
   "execution_count": 13,
   "metadata": {},
   "outputs": [],
   "source": [
    "def fit_logistic_model(train_X, train_y, test_X = None, test_y=None, verbose=True):\n",
    "    error = None\n",
    "\n",
    "    model = linear_model.LogisticRegression()\n",
    "    model.fit(train_X, train_y)\n",
    "\n",
    "    if verbose: print(f'Trained model:\\n\\n Coefficients:\\n{model.coef_}\\n\\n Intercept: {model.intercept_}\\n')\n",
    "    \n",
    "    if test_X is not None and test_y is not None:\n",
    "        preds = model.predict(test_X)\n",
    "        error = np.round(np.mean(preds != test_y), 4)\n",
    "        if verbose:\n",
    "            print(f'Error: {error}')\n",
    "    \n",
    "    return model, error"
   ]
  },
  {
   "cell_type": "code",
   "execution_count": 14,
   "metadata": {},
   "outputs": [
    {
     "name": "stdout",
     "output_type": "stream",
     "text": [
      "Trainset: X - (244, 3), Y - (244,)\n",
      "Testset: X - (62, 3), Y - (62,)\n"
     ]
    }
   ],
   "source": [
    "train_X, train_y, test_X, test_y = get_data(df, test_size=0.2)"
   ]
  },
  {
   "cell_type": "code",
   "execution_count": 15,
   "metadata": {},
   "outputs": [
    {
     "name": "stdout",
     "output_type": "stream",
     "text": [
      "Trained model:\n",
      "\n",
      " Coefficients:\n",
      "[[-0.02633861  0.01323499 -0.08835826]]\n",
      "\n",
      " Intercept: [1.95297432]\n",
      "\n",
      "Error: 0.2581\n"
     ]
    }
   ],
   "source": [
    "logs = fit_logistic_model(train_X, train_y, test_X=test_X, test_y=test_y)"
   ]
  },
  {
   "cell_type": "code",
   "execution_count": 16,
   "metadata": {},
   "outputs": [
    {
     "name": "stdout",
     "output_type": "stream",
     "text": [
      "Logistic Regression - effect of data split ratio\n"
     ]
    },
    {
     "data": {
      "text/html": [
       "<div>\n",
       "<style scoped>\n",
       "    .dataframe tbody tr th:only-of-type {\n",
       "        vertical-align: middle;\n",
       "    }\n",
       "\n",
       "    .dataframe tbody tr th {\n",
       "        vertical-align: top;\n",
       "    }\n",
       "\n",
       "    .dataframe thead th {\n",
       "        text-align: right;\n",
       "    }\n",
       "</style>\n",
       "<table border=\"1\" class=\"dataframe\">\n",
       "  <thead>\n",
       "    <tr style=\"text-align: right;\">\n",
       "      <th></th>\n",
       "      <th>60:40</th>\n",
       "      <th>70:30</th>\n",
       "      <th>90:10</th>\n",
       "    </tr>\n",
       "  </thead>\n",
       "  <tbody>\n",
       "    <tr>\n",
       "      <th>classification error</th>\n",
       "      <td>0.3008</td>\n",
       "      <td>0.2935</td>\n",
       "      <td>0.1613</td>\n",
       "    </tr>\n",
       "  </tbody>\n",
       "</table>\n",
       "</div>"
      ],
      "text/plain": [
       "                       60:40   70:30   90:10\n",
       "classification error  0.3008  0.2935  0.1613"
      ]
     },
     "metadata": {},
     "output_type": "display_data"
    }
   ],
   "source": [
    "res = {split: dict() for split in split_headings}\n",
    "for split, heading in zip(splits, split_headings):\n",
    "    train_X, train_y, test_X, test_y = get_data(df, test_size=split, verbose=False)\n",
    "    _, error = fit_logistic_model(train_X, train_y, test_X=test_X, test_y=test_y, verbose=False)\n",
    "    res[heading]['classification error'] = error\n",
    "\n",
    "print('Logistic Regression - effect of data split ratio')\n",
    "display(pd.DataFrame(res))"
   ]
  },
  {
   "cell_type": "code",
   "execution_count": 17,
   "metadata": {},
   "outputs": [],
   "source": [
    "m = linear_model.Ridge()\n"
   ]
  },
  {
   "cell_type": "code",
   "execution_count": null,
   "metadata": {},
   "outputs": [],
   "source": [
    "m.fit()"
   ]
  }
 ],
 "metadata": {
  "kernelspec": {
   "display_name": "Python 3",
   "language": "python",
   "name": "python3"
  },
  "language_info": {
   "codemirror_mode": {
    "name": "ipython",
    "version": 3
   },
   "file_extension": ".py",
   "mimetype": "text/x-python",
   "name": "python",
   "nbconvert_exporter": "python",
   "pygments_lexer": "ipython3",
   "version": "3.7.6"
  }
 },
 "nbformat": 4,
 "nbformat_minor": 4
}
