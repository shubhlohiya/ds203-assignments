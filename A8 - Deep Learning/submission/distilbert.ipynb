{
 "cells": [
  {
   "cell_type": "code",
   "execution_count": 49,
   "id": "knowing-criterion",
   "metadata": {},
   "outputs": [],
   "source": [
    "# Make imports \n",
    "\n",
    "import os\n",
    "import numpy as np\n",
    "import pandas as pd\n",
    "import matplotlib.pyplot as plt\n",
    "\n",
    "import torch\n",
    "import torch.nn as nn\n",
    "import torch.nn.functional as F\n",
    "from torch.utils.data import TensorDataset, DataLoader\n",
    "from sklearn.model_selection import train_test_split\n",
    "\n",
    "from transformers import DistilBertTokenizer, DistilBertModel\n",
    "\n",
    "from tqdm import tqdm\n",
    "\n",
    "import warnings\n",
    "warnings.filterwarnings(\"ignore\")\n",
    "\n",
    "device = torch.device('cuda' if torch.cuda.is_available() else 'cpu')\n",
    "# torch.cuda.set_device(1)"
   ]
  },
  {
   "cell_type": "code",
   "execution_count": 62,
   "id": "tutorial-shaft",
   "metadata": {},
   "outputs": [],
   "source": [
    "# Set random seeds for reproducible results\n",
    "\n",
    "SEED = 123\n",
    "np.random.seed(SEED)\n",
    "torch.manual_seed(SEED)\n",
    "torch.cuda.manual_seed(SEED)\n",
    "torch.backends.cudnn.deterministic = True"
   ]
  },
  {
   "cell_type": "markdown",
   "id": "divine-california",
   "metadata": {},
   "source": [
    "### Get the Dataset"
   ]
  },
  {
   "cell_type": "code",
   "execution_count": 34,
   "id": "falling-berlin",
   "metadata": {},
   "outputs": [],
   "source": [
    "# !wget http://ai.stanford.edu/~amaas/data/sentiment/aclImdb_v1.tar.gz\n",
    "# !tar -xvzf aclImdb_v1.tar.gz\n",
    "# !rm aclImdb_v1.tar.gz\n",
    "data_dir = './aclImdb/'"
   ]
  },
  {
   "cell_type": "code",
   "execution_count": 59,
   "id": "pediatric-partnership",
   "metadata": {},
   "outputs": [],
   "source": [
    "# reference code: https://d2l.ai/chapter_natural-language-processing-applications/sentiment-analysis-and-dataset.html\n",
    "\n",
    "def read_imdb(data_dir, is_train):\n",
    "    \"\"\"Read the IMDb review dataset text sequences and labels.\"\"\"\n",
    "    data, labels = [], []\n",
    "    for label in ('pos', 'neg'):\n",
    "        folder_name = os.path.join(data_dir, 'train' if is_train else 'test', label)\n",
    "        for file in os.listdir(folder_name):\n",
    "            with open(os.path.join(folder_name, file), 'rb') as f:\n",
    "                review = f.read().decode('utf-8').replace('\\n', '')\n",
    "                data.append(review)\n",
    "                labels.append(1 if label == 'pos' else 0)\n",
    "    df = pd.DataFrame()\n",
    "    df['review'] = data\n",
    "    df['label'] = labels\n",
    "    return df\n",
    "\n",
    "def get_tokenized_dataset(data, tokenizer):\n",
    "    tokenized_reviews = data.review.apply(lambda x: tokenizer.encode(x, add_special_tokens=True, max_length=512))\n",
    "\n",
    "    max_len = max(map(len,tokenized_reviews))\n",
    "    padded_reviews = np.array([i+[0]*(max_len-len(i))  for i in tokenized_reviews])\n",
    "    attention_masked_reviews = np.where(padded_reviews!=0,1,0)\n",
    "\n",
    "    X = torch.from_numpy(padded_reviews)\n",
    "    X_attention = torch.from_numpy(attention_masked_reviews)\n",
    "    y = torch.from_numpy(data.label.to_numpy())\n",
    "    \n",
    "    return X, X_attention, y"
   ]
  },
  {
   "cell_type": "code",
   "execution_count": null,
   "id": "understood-terminal",
   "metadata": {},
   "outputs": [],
   "source": [
    "# Define tokenizer\n",
    "tokenizer = DistilBertTokenizer.from_pretrained('distilbert-base-uncased')"
   ]
  },
  {
   "cell_type": "code",
   "execution_count": null,
   "id": "developmental-teach",
   "metadata": {},
   "outputs": [],
   "source": [
    "train_data = read_imdb(data_dir, is_train=True)\n",
    "test_data = read_imdb(data_dir, is_train=False)\n",
    "\n",
    "X_train, X_attn_train, y_train = get_tokenized_dataset(train_data, tokenizer)\n",
    "X_test, X_attn_test, y_test = get_tokenized_dataset(test_data, tokenizer)"
   ]
  },
  {
   "cell_type": "code",
   "execution_count": 63,
   "id": "ideal-campbell",
   "metadata": {},
   "outputs": [],
   "source": [
    "# split trainset and create dataloaders\n",
    "\n",
    "batch_size = 16\n",
    "\n",
    "X_train, X_val, X_attn_train, X_attn_val, y_train, y_val = train_test_split(\n",
    "    X_train, X_attn_train, y_train, test_size=0.2, random_state=SEED)\n",
    "\n",
    "trainset = TensorDataset(X_train, X_attn_train, y_train)\n",
    "valset = TensorDataset(X_val, X_attn_val, y_val)\n",
    "testset = TensorDataset(X_test, X_attn_test, y_test)\n",
    "\n",
    "trainloader = DataLoader(trainset, batch_size=batch_size, shuffle=True)\n",
    "valloader = DataLoader(valset, batch_size=batch_size, shuffle=True)\n",
    "testloader = DataLoader(testset, batch_size=batch_size, shuffle=True)"
   ]
  },
  {
   "cell_type": "markdown",
   "id": "difficult-trinity",
   "metadata": {},
   "source": [
    "### Defne the Sentiment Classifier model"
   ]
  },
  {
   "cell_type": "code",
   "execution_count": 65,
   "id": "detailed-television",
   "metadata": {},
   "outputs": [],
   "source": [
    "class SentimentClassifier(nn.Module):\n",
    "    def __init__(self, freeze_bert=False):\n",
    "        super().__init__()\n",
    "        \n",
    "        # Specify hidden size of DistilBERT, hidden size of our classifier, and number of labels\n",
    "        D_in, H, D_out = 768, 64, 2\n",
    "\n",
    "        self.bert = DistilBertModel.from_pretrained('distilbert-base-uncased') # get Language Model\n",
    "\n",
    "        # Instantiate an one-layer feed-forward classifier\n",
    "        self.classifier = nn.Sequential(\n",
    "            nn.Dropout(0.5),\n",
    "            nn.Linear(D_in, H),\n",
    "            nn.ReLU(),\n",
    "            nn.Dropout(0.5),\n",
    "            nn.Linear(H, D_out)\n",
    "        )\n",
    "\n",
    "        # Freeze the BERT model\n",
    "        if freeze_bert:\n",
    "            for param in self.bert.parameters():\n",
    "                param.requires_grad = False\n",
    "        \n",
    "    def forward(self, input_ids, attention_mask):\n",
    "        outputs = self.bert(input_ids=input_ids,\n",
    "                            attention_mask=attention_mask)\n",
    "        \n",
    "        # Extract the last hidden state of the token `[CLS]` for classification task\n",
    "        last_hidden_state_cls = outputs[0][:, 0, :]\n",
    "\n",
    "        # Feed input to classifier to compute logits\n",
    "        logits = self.classifier(last_hidden_state_cls)\n",
    "\n",
    "        return logits"
   ]
  },
  {
   "cell_type": "code",
   "execution_count": 72,
   "id": "assumed-booking",
   "metadata": {},
   "outputs": [],
   "source": [
    "# helper functions for training and evaluation\n",
    "\n",
    "def train_epoch(model, iterator, optimizer, criterion):\n",
    "    model.train() # Set to train mode\n",
    "    \n",
    "    epoch_loss = 0\n",
    "    correct, total = 0, 0\n",
    "    for X, X_attn, y in tqdm(iterator):\n",
    "        X, X_attn, y = X.to(device), X_attn.to(device), y.to(device)\n",
    "        optimizer.zero_grad() # zero out previously accumulated gradients\n",
    "        \n",
    "        output = model(X, X_attn)\n",
    "        \n",
    "        loss = criterion(output, y) # calculate loss using criterion\n",
    "        loss.backward() # do backpropagation to calculate gradients\n",
    "        optimizer.step() # update weights\n",
    "        \n",
    "        epoch_loss += loss.item() # accumulate batch loss in epoch loss\n",
    "        \n",
    "        total += len(y)\n",
    "        correct += int(torch.sum(torch.argmax(output, axis=-1) == y))\n",
    "        \n",
    "    return epoch_loss / len(iterator), correct / total\n",
    "\n",
    "\n",
    "def evaluate_epoch(model, iterator, criterion):\n",
    "    model.eval() # set to evaluation mode\n",
    "    epoch_loss = 0\n",
    "    correct, total = 0, 0\n",
    "    with torch.no_grad():    \n",
    "        for X, X_attn, y in tqdm(iterator):\n",
    "            X, X_attn, y = X.to(device), X_attn.to(device), y.to(device)\n",
    "            output = model(X, X_attn)\n",
    " \n",
    "            loss = criterion(output, y)            \n",
    "            epoch_loss += loss.item() # accumulate batch loss in epoch loss\n",
    "            \n",
    "            total += len(y)\n",
    "            correct += int(torch.sum(torch.argmax(output, axis=-1) == y))\n",
    "        \n",
    "    return epoch_loss / len(iterator), correct / total\n",
    "\n",
    "\n",
    "def train(epochs, model, trainloader, valloader, optimizer, criterion, verbose=True):\n",
    "    train_losses, val_losses = [], []\n",
    "    train_accs, val_accs = [], []\n",
    "    best_val_loss = np.inf\n",
    "\n",
    "    for epoch in range(epochs):\n",
    "        train_loss, train_acc = train_epoch(model, trainloader, optimizer, criterion)\n",
    "        val_loss, val_acc = evaluate_epoch(model, valloader, criterion)\n",
    "        if val_loss < best_val_loss:\n",
    "            best_val_loss = val_loss\n",
    "            torch.save(model.state_dict(), 'best-model.pt')\n",
    "        train_losses.append(train_loss)\n",
    "        val_losses.append(val_loss)\n",
    "        train_accs.append(train_acc)\n",
    "        val_accs.append(val_acc)\n",
    "        if verbose:\n",
    "            print(f'Epoch: {epoch+1:02}: Train Loss: {train_loss:.3f} | Val. Loss: {val_loss:.3f}')\n",
    "            print(f'                   :  Train Acc: {train_acc:.3f}  |  Val. Acc: {val_acc:.3f}')\n",
    "\n",
    "    if verbose:\n",
    "        plt.plot(np.arange(1, epochs+1), train_losses, label = \"train\")\n",
    "        plt.plot(np.arange(1, epochs+1), val_losses, label = \"val\")\n",
    "        plt.title('Loss vs Epoch')\n",
    "        plt.legend()\n",
    "        plt.show()\n",
    "        \n",
    "        plt.plot(np.arange(1, epochs+1), train_accs, label = \"train\")\n",
    "        plt.plot(np.arange(1, epochs+1), val_accs, label = \"val\")\n",
    "        plt.title('Accuracy vs Epoch')\n",
    "        plt.legend()\n",
    "        plt.show()\n",
    "        \n",
    "    return train_losses, val_losses"
   ]
  },
  {
   "cell_type": "code",
   "execution_count": 67,
   "id": "medium-entry",
   "metadata": {},
   "outputs": [
    {
     "name": "stderr",
     "output_type": "stream",
     "text": [
      "100%|██████████| 442/442 [00:00<00:00, 83014.61B/s]\n",
      "100%|██████████| 267967963/267967963 [02:52<00:00, 1555224.69B/s]\n"
     ]
    },
    {
     "data": {
      "text/plain": [
       "SentimentClassifier(\n",
       "  (bert): DistilBertModel(\n",
       "    (embeddings): Embeddings(\n",
       "      (word_embeddings): Embedding(30522, 768, padding_idx=0)\n",
       "      (position_embeddings): Embedding(512, 768)\n",
       "      (LayerNorm): LayerNorm((768,), eps=1e-12, elementwise_affine=True)\n",
       "      (dropout): Dropout(p=0.1, inplace=False)\n",
       "    )\n",
       "    (transformer): Transformer(\n",
       "      (layer): ModuleList(\n",
       "        (0): TransformerBlock(\n",
       "          (dropout): Dropout(p=0.1, inplace=False)\n",
       "          (attention): MultiHeadSelfAttention(\n",
       "            (dropout): Dropout(p=0.1, inplace=False)\n",
       "            (q_lin): Linear(in_features=768, out_features=768, bias=True)\n",
       "            (k_lin): Linear(in_features=768, out_features=768, bias=True)\n",
       "            (v_lin): Linear(in_features=768, out_features=768, bias=True)\n",
       "            (out_lin): Linear(in_features=768, out_features=768, bias=True)\n",
       "          )\n",
       "          (sa_layer_norm): LayerNorm((768,), eps=1e-12, elementwise_affine=True)\n",
       "          (ffn): FFN(\n",
       "            (dropout): Dropout(p=0.1, inplace=False)\n",
       "            (lin1): Linear(in_features=768, out_features=3072, bias=True)\n",
       "            (lin2): Linear(in_features=3072, out_features=768, bias=True)\n",
       "          )\n",
       "          (output_layer_norm): LayerNorm((768,), eps=1e-12, elementwise_affine=True)\n",
       "        )\n",
       "        (1): TransformerBlock(\n",
       "          (dropout): Dropout(p=0.1, inplace=False)\n",
       "          (attention): MultiHeadSelfAttention(\n",
       "            (dropout): Dropout(p=0.1, inplace=False)\n",
       "            (q_lin): Linear(in_features=768, out_features=768, bias=True)\n",
       "            (k_lin): Linear(in_features=768, out_features=768, bias=True)\n",
       "            (v_lin): Linear(in_features=768, out_features=768, bias=True)\n",
       "            (out_lin): Linear(in_features=768, out_features=768, bias=True)\n",
       "          )\n",
       "          (sa_layer_norm): LayerNorm((768,), eps=1e-12, elementwise_affine=True)\n",
       "          (ffn): FFN(\n",
       "            (dropout): Dropout(p=0.1, inplace=False)\n",
       "            (lin1): Linear(in_features=768, out_features=3072, bias=True)\n",
       "            (lin2): Linear(in_features=3072, out_features=768, bias=True)\n",
       "          )\n",
       "          (output_layer_norm): LayerNorm((768,), eps=1e-12, elementwise_affine=True)\n",
       "        )\n",
       "        (2): TransformerBlock(\n",
       "          (dropout): Dropout(p=0.1, inplace=False)\n",
       "          (attention): MultiHeadSelfAttention(\n",
       "            (dropout): Dropout(p=0.1, inplace=False)\n",
       "            (q_lin): Linear(in_features=768, out_features=768, bias=True)\n",
       "            (k_lin): Linear(in_features=768, out_features=768, bias=True)\n",
       "            (v_lin): Linear(in_features=768, out_features=768, bias=True)\n",
       "            (out_lin): Linear(in_features=768, out_features=768, bias=True)\n",
       "          )\n",
       "          (sa_layer_norm): LayerNorm((768,), eps=1e-12, elementwise_affine=True)\n",
       "          (ffn): FFN(\n",
       "            (dropout): Dropout(p=0.1, inplace=False)\n",
       "            (lin1): Linear(in_features=768, out_features=3072, bias=True)\n",
       "            (lin2): Linear(in_features=3072, out_features=768, bias=True)\n",
       "          )\n",
       "          (output_layer_norm): LayerNorm((768,), eps=1e-12, elementwise_affine=True)\n",
       "        )\n",
       "        (3): TransformerBlock(\n",
       "          (dropout): Dropout(p=0.1, inplace=False)\n",
       "          (attention): MultiHeadSelfAttention(\n",
       "            (dropout): Dropout(p=0.1, inplace=False)\n",
       "            (q_lin): Linear(in_features=768, out_features=768, bias=True)\n",
       "            (k_lin): Linear(in_features=768, out_features=768, bias=True)\n",
       "            (v_lin): Linear(in_features=768, out_features=768, bias=True)\n",
       "            (out_lin): Linear(in_features=768, out_features=768, bias=True)\n",
       "          )\n",
       "          (sa_layer_norm): LayerNorm((768,), eps=1e-12, elementwise_affine=True)\n",
       "          (ffn): FFN(\n",
       "            (dropout): Dropout(p=0.1, inplace=False)\n",
       "            (lin1): Linear(in_features=768, out_features=3072, bias=True)\n",
       "            (lin2): Linear(in_features=3072, out_features=768, bias=True)\n",
       "          )\n",
       "          (output_layer_norm): LayerNorm((768,), eps=1e-12, elementwise_affine=True)\n",
       "        )\n",
       "        (4): TransformerBlock(\n",
       "          (dropout): Dropout(p=0.1, inplace=False)\n",
       "          (attention): MultiHeadSelfAttention(\n",
       "            (dropout): Dropout(p=0.1, inplace=False)\n",
       "            (q_lin): Linear(in_features=768, out_features=768, bias=True)\n",
       "            (k_lin): Linear(in_features=768, out_features=768, bias=True)\n",
       "            (v_lin): Linear(in_features=768, out_features=768, bias=True)\n",
       "            (out_lin): Linear(in_features=768, out_features=768, bias=True)\n",
       "          )\n",
       "          (sa_layer_norm): LayerNorm((768,), eps=1e-12, elementwise_affine=True)\n",
       "          (ffn): FFN(\n",
       "            (dropout): Dropout(p=0.1, inplace=False)\n",
       "            (lin1): Linear(in_features=768, out_features=3072, bias=True)\n",
       "            (lin2): Linear(in_features=3072, out_features=768, bias=True)\n",
       "          )\n",
       "          (output_layer_norm): LayerNorm((768,), eps=1e-12, elementwise_affine=True)\n",
       "        )\n",
       "        (5): TransformerBlock(\n",
       "          (dropout): Dropout(p=0.1, inplace=False)\n",
       "          (attention): MultiHeadSelfAttention(\n",
       "            (dropout): Dropout(p=0.1, inplace=False)\n",
       "            (q_lin): Linear(in_features=768, out_features=768, bias=True)\n",
       "            (k_lin): Linear(in_features=768, out_features=768, bias=True)\n",
       "            (v_lin): Linear(in_features=768, out_features=768, bias=True)\n",
       "            (out_lin): Linear(in_features=768, out_features=768, bias=True)\n",
       "          )\n",
       "          (sa_layer_norm): LayerNorm((768,), eps=1e-12, elementwise_affine=True)\n",
       "          (ffn): FFN(\n",
       "            (dropout): Dropout(p=0.1, inplace=False)\n",
       "            (lin1): Linear(in_features=768, out_features=3072, bias=True)\n",
       "            (lin2): Linear(in_features=3072, out_features=768, bias=True)\n",
       "          )\n",
       "          (output_layer_norm): LayerNorm((768,), eps=1e-12, elementwise_affine=True)\n",
       "        )\n",
       "      )\n",
       "    )\n",
       "  )\n",
       "  (classifier): Sequential(\n",
       "    (0): Dropout(p=0.5, inplace=False)\n",
       "    (1): Linear(in_features=768, out_features=64, bias=True)\n",
       "    (2): ReLU()\n",
       "    (3): Dropout(p=0.5, inplace=False)\n",
       "    (4): Linear(in_features=64, out_features=2, bias=True)\n",
       "  )\n",
       ")"
      ]
     },
     "execution_count": 67,
     "metadata": {},
     "output_type": "execute_result"
    }
   ],
   "source": [
    "model = SentimentClassifier(freeze_bert=True).to(device) # Create model instance and trasfer to GPU if available\n",
    "model"
   ]
  },
  {
   "cell_type": "code",
   "execution_count": 68,
   "id": "chief-devices",
   "metadata": {},
   "outputs": [],
   "source": [
    "criterion = torch.nn.CrossEntropyLoss() # CrossEntropyLoss is equivalent to LogSoftmax + NLLLoss\n",
    "optimizer = torch.optim.Adam(model.parameters())"
   ]
  },
  {
   "cell_type": "code",
   "execution_count": 73,
   "id": "brave-damages",
   "metadata": {},
   "outputs": [
    {
     "name": "stderr",
     "output_type": "stream",
     "text": [
      "100%|██████████| 1250/1250 [02:47<00:00,  7.45it/s]\n",
      "100%|██████████| 313/313 [00:39<00:00,  7.84it/s]\n",
      "  0%|          | 1/1250 [00:00<02:51,  7.30it/s]"
     ]
    },
    {
     "name": "stdout",
     "output_type": "stream",
     "text": [
      "Epoch: 01: Train Loss: 0.481 | Val. Loss: 0.374\n"
     ]
    },
    {
     "name": "stderr",
     "output_type": "stream",
     "text": [
      "100%|██████████| 1250/1250 [02:49<00:00,  7.37it/s]\n",
      "100%|██████████| 313/313 [00:40<00:00,  7.76it/s]\n",
      "  0%|          | 1/1250 [00:00<02:48,  7.40it/s]"
     ]
    },
    {
     "name": "stdout",
     "output_type": "stream",
     "text": [
      "Epoch: 02: Train Loss: 0.438 | Val. Loss: 0.372\n"
     ]
    },
    {
     "name": "stderr",
     "output_type": "stream",
     "text": [
      "100%|██████████| 1250/1250 [02:49<00:00,  7.36it/s]\n",
      "100%|██████████| 313/313 [00:40<00:00,  7.77it/s]\n",
      "  0%|          | 1/1250 [00:00<02:49,  7.38it/s]"
     ]
    },
    {
     "name": "stdout",
     "output_type": "stream",
     "text": [
      "Epoch: 03: Train Loss: 0.434 | Val. Loss: 0.372\n"
     ]
    },
    {
     "name": "stderr",
     "output_type": "stream",
     "text": [
      "100%|██████████| 1250/1250 [02:50<00:00,  7.34it/s]\n",
      "100%|██████████| 313/313 [00:40<00:00,  7.75it/s]\n",
      "  0%|          | 1/1250 [00:00<02:49,  7.37it/s]"
     ]
    },
    {
     "name": "stdout",
     "output_type": "stream",
     "text": [
      "Epoch: 04: Train Loss: 0.426 | Val. Loss: 0.377\n"
     ]
    },
    {
     "name": "stderr",
     "output_type": "stream",
     "text": [
      "100%|██████████| 1250/1250 [02:50<00:00,  7.33it/s]\n",
      "100%|██████████| 313/313 [00:40<00:00,  7.73it/s]\n",
      "  0%|          | 1/1250 [00:00<02:51,  7.29it/s]"
     ]
    },
    {
     "name": "stdout",
     "output_type": "stream",
     "text": [
      "Epoch: 05: Train Loss: 0.427 | Val. Loss: 0.357\n"
     ]
    },
    {
     "name": "stderr",
     "output_type": "stream",
     "text": [
      "100%|██████████| 1250/1250 [02:50<00:00,  7.33it/s]\n",
      "100%|██████████| 313/313 [00:40<00:00,  7.74it/s]\n",
      "  0%|          | 1/1250 [00:00<02:50,  7.34it/s]"
     ]
    },
    {
     "name": "stdout",
     "output_type": "stream",
     "text": [
      "Epoch: 06: Train Loss: 0.424 | Val. Loss: 0.360\n"
     ]
    },
    {
     "name": "stderr",
     "output_type": "stream",
     "text": [
      "100%|██████████| 1250/1250 [02:50<00:00,  7.32it/s]\n",
      "100%|██████████| 313/313 [00:40<00:00,  7.72it/s]\n",
      "  0%|          | 1/1250 [00:00<02:54,  7.18it/s]"
     ]
    },
    {
     "name": "stdout",
     "output_type": "stream",
     "text": [
      "Epoch: 07: Train Loss: 0.421 | Val. Loss: 0.354\n"
     ]
    },
    {
     "name": "stderr",
     "output_type": "stream",
     "text": [
      "100%|██████████| 1250/1250 [02:50<00:00,  7.33it/s]\n",
      "100%|██████████| 313/313 [00:40<00:00,  7.75it/s]\n",
      "  0%|          | 1/1250 [00:00<02:48,  7.42it/s]"
     ]
    },
    {
     "name": "stdout",
     "output_type": "stream",
     "text": [
      "Epoch: 08: Train Loss: 0.422 | Val. Loss: 0.357\n"
     ]
    },
    {
     "name": "stderr",
     "output_type": "stream",
     "text": [
      "100%|██████████| 1250/1250 [02:50<00:00,  7.33it/s]\n",
      "100%|██████████| 313/313 [00:40<00:00,  7.74it/s]\n",
      "  0%|          | 1/1250 [00:00<02:49,  7.35it/s]"
     ]
    },
    {
     "name": "stdout",
     "output_type": "stream",
     "text": [
      "Epoch: 09: Train Loss: 0.418 | Val. Loss: 0.355\n"
     ]
    },
    {
     "name": "stderr",
     "output_type": "stream",
     "text": [
      "100%|██████████| 1250/1250 [02:50<00:00,  7.32it/s]\n",
      "100%|██████████| 313/313 [00:40<00:00,  7.71it/s]\n"
     ]
    },
    {
     "name": "stdout",
     "output_type": "stream",
     "text": [
      "Epoch: 10: Train Loss: 0.414 | Val. Loss: 0.363\n"
     ]
    },
    {
     "data": {
      "image/png": "[encoded data removed]",
      "text/plain": [
       "<Figure size 432x288 with 1 Axes>"
      ]
     },
     "metadata": {
      "needs_background": "light"
     },
     "output_type": "display_data"
    },
    {
     "data": {
      "image/png": "[encoded data removed]",
      "text/plain": [
       "<Figure size 432x288 with 1 Axes>"
      ]
     },
     "metadata": {
      "needs_background": "light"
     },
     "output_type": "display_data"
    }
   ],
   "source": [
    "train_losses, val_losses = train(10, model, trainloader, valloader, optimizer, criterion) # train the model"
   ]
  },
  {
   "cell_type": "code",
   "execution_count": 74,
   "id": "premier-geometry",
   "metadata": {},
   "outputs": [
    {
     "data": {
      "text/plain": [
       "<All keys matched successfully>"
      ]
     },
     "execution_count": 74,
     "metadata": {},
     "output_type": "execute_result"
    }
   ],
   "source": [
    "# load best model\n",
    "model.load_state_dict(torch.load('best-model.pt'))"
   ]
  },
  {
   "cell_type": "markdown",
   "id": "optical-alaska",
   "metadata": {},
   "source": [
    "The low training accuracy in comparison with validation set accuracy here can be explained by dropout being active in the train epoch. Let's confirm this intuition by evaluating on the trainset."
   ]
  },
  {
   "cell_type": "code",
   "execution_count": 76,
   "id": "chicken-advocate",
   "metadata": {},
   "outputs": [
    {
     "name": "stderr",
     "output_type": "stream",
     "text": [
      "100%|██████████| 1250/1250 [02:39<00:00,  7.82it/s]"
     ]
    },
    {
     "name": "stdout",
     "output_type": "stream",
     "text": [
      "Loss on train data: 0.3342\n",
      "Accuracy on train data: 85.89%\n"
     ]
    },
    {
     "name": "stderr",
     "output_type": "stream",
     "text": [
      "\n"
     ]
    }
   ],
   "source": [
    "loss, acc = evaluate_epoch(model, trainloader, criterion)\n",
    "print(f'Loss on train data: {loss:.4f}')\n",
    "print(f'Accuracy on train data: {100*acc:.2f}%')"
   ]
  },
  {
   "cell_type": "markdown",
   "id": "cosmetic-somalia",
   "metadata": {},
   "source": [
    "Thus, our intuition was correct, and actual train set performance is quite close to the validation set performance. "
   ]
  },
  {
   "cell_type": "markdown",
   "id": "immediate-costume",
   "metadata": {},
   "source": [
    "### Evaluate on the test set"
   ]
  },
  {
   "cell_type": "code",
   "execution_count": 75,
   "id": "suspended-cisco",
   "metadata": {},
   "outputs": [
    {
     "name": "stderr",
     "output_type": "stream",
     "text": [
      "100%|██████████| 1563/1563 [03:19<00:00,  7.84it/s]"
     ]
    },
    {
     "name": "stdout",
     "output_type": "stream",
     "text": [
      "Loss on test data: 0.3429\n",
      "Accuracy on test data: 85.19%\n"
     ]
    },
    {
     "name": "stderr",
     "output_type": "stream",
     "text": [
      "\n"
     ]
    }
   ],
   "source": [
    "loss, acc = evaluate_epoch(model, testloader, criterion)\n",
    "print(f'Loss on test data: {loss:.4f}')\n",
    "print(f'Accuracy on test data: {100*acc:.2f}%')"
   ]
  },
  {
   "cell_type": "markdown",
   "id": "female-junior",
   "metadata": {},
   "source": [
    "Thus the accuracy of the model is quite good, keeping in mind that we have used a lighter language model (DistilBERT). Performance on this model can also be further improved by tinkering with the classification layer parameters on top, and other hyperparameters like dropout probability and choice of optimizer and its learning rate."
   ]
  }
 ],
 "metadata": {
  "kernelspec": {
   "display_name": "Python 3",
   "language": "python",
   "name": "python3"
  },
  "language_info": {
   "codemirror_mode": {
    "name": "ipython",
    "version": 3
   },
   "file_extension": ".py",
   "mimetype": "text/x-python",
   "name": "python",
   "nbconvert_exporter": "python",
   "pygments_lexer": "ipython3",
   "version": "3.8.5"
  }
 },
 "nbformat": 4,
 "nbformat_minor": 5
}
